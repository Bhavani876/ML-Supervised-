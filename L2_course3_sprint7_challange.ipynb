{
 "cells": [
  {
   "cell_type": "code",
   "execution_count": 51,
   "id": "c115e980",
   "metadata": {},
   "outputs": [],
   "source": [
    "import numpy as np\n",
    "import pandas as pd\n",
    "import matplotlib.pyplot as plt\n",
    "import seaborn as sb\n",
    "from sklearn.preprocessing import LabelEncoder\n",
    "from sklearn.preprocessing import StandardScaler\n",
    "from sklearn.model_selection import train_test_split\n",
    "from sklearn.linear_model import LogisticRegression\n",
    "from sklearn.ensemble import RandomForestClassifier\n",
    "from sklearn.ensemble import GradientBoostingClassifier\n",
    "from sklearn.ensemble import StackingClassifier\n",
    "from sklearn.model_selection import RepeatedStratifiedKFold\n",
    "from sklearn.model_selection import cross_val_score\n",
    "from sklearn.naive_bayes import GaussianNB\n",
    "import warnings\n",
    "warnings.filterwarnings('ignore')"
   ]
  },
  {
   "cell_type": "markdown",
   "id": "30b75b04",
   "metadata": {},
   "source": [
    "# 1.Data Loading."
   ]
  },
  {
   "cell_type": "code",
   "execution_count": 7,
   "id": "02e25581",
   "metadata": {},
   "outputs": [
    {
     "data": {
      "text/html": [
       "<div>\n",
       "<style scoped>\n",
       "    .dataframe tbody tr th:only-of-type {\n",
       "        vertical-align: middle;\n",
       "    }\n",
       "\n",
       "    .dataframe tbody tr th {\n",
       "        vertical-align: top;\n",
       "    }\n",
       "\n",
       "    .dataframe thead th {\n",
       "        text-align: right;\n",
       "    }\n",
       "</style>\n",
       "<table border=\"1\" class=\"dataframe\">\n",
       "  <thead>\n",
       "    <tr style=\"text-align: right;\">\n",
       "      <th></th>\n",
       "      <th>Unnamed: 0</th>\n",
       "      <th>bathrooms</th>\n",
       "      <th>bedrooms</th>\n",
       "      <th>building_id</th>\n",
       "      <th>created</th>\n",
       "      <th>description</th>\n",
       "      <th>display_address</th>\n",
       "      <th>features</th>\n",
       "      <th>latitude</th>\n",
       "      <th>listing_id</th>\n",
       "      <th>longitude</th>\n",
       "      <th>manager_id</th>\n",
       "      <th>photos</th>\n",
       "      <th>price</th>\n",
       "      <th>street_address</th>\n",
       "      <th>interest_level</th>\n",
       "    </tr>\n",
       "  </thead>\n",
       "  <tbody>\n",
       "    <tr>\n",
       "      <th>0</th>\n",
       "      <td>105408</td>\n",
       "      <td>1.0</td>\n",
       "      <td>0</td>\n",
       "      <td>0f9d07991ba14c82d3d368b72d90270a</td>\n",
       "      <td>04-04-2016 03:34</td>\n",
       "      <td>Gorgeous unit in one of the most genuinely cov...</td>\n",
       "      <td>230 Central Park South</td>\n",
       "      <td>['Cats Allowed', 'Dogs Allowed', 'Doorman', 'E...</td>\n",
       "      <td>40.7672</td>\n",
       "      <td>6827153</td>\n",
       "      <td>-73.9802</td>\n",
       "      <td>932589de9230b697808216774fa26bd4</td>\n",
       "      <td>['https://photos.renthop.com/2/6821519_0a14cc2...</td>\n",
       "      <td>2800</td>\n",
       "      <td>230 Central Park South</td>\n",
       "      <td>high</td>\n",
       "    </tr>\n",
       "    <tr>\n",
       "      <th>1</th>\n",
       "      <td>110219</td>\n",
       "      <td>1.0</td>\n",
       "      <td>1</td>\n",
       "      <td>564d6f608f41e8d4a5e181c4e068e3d9</td>\n",
       "      <td>21-04-2016 20:40</td>\n",
       "      <td>Enormous 1 bedroom apartment in Murray Hill. F...</td>\n",
       "      <td>E 39th St</td>\n",
       "      <td>['Cats Allowed', 'Dogs Allowed', 'Reduced Fee'...</td>\n",
       "      <td>40.7483</td>\n",
       "      <td>6908998</td>\n",
       "      <td>-73.9741</td>\n",
       "      <td>489ad933197469ae66acd1f7ce18f908</td>\n",
       "      <td>['https://photos.renthop.com/2/6908998_6b00895...</td>\n",
       "      <td>2100</td>\n",
       "      <td>243 E 39th St</td>\n",
       "      <td>high</td>\n",
       "    </tr>\n",
       "    <tr>\n",
       "      <th>2</th>\n",
       "      <td>56113</td>\n",
       "      <td>1.0</td>\n",
       "      <td>1</td>\n",
       "      <td>69790fbf0bf7e22b1d0ebc721cf0f633</td>\n",
       "      <td>14-05-2016 05:44</td>\n",
       "      <td>This 1 bedroom, 1 bathroom spacious apartment ...</td>\n",
       "      <td>E 25th St.</td>\n",
       "      <td>['Elevator', 'Furnished', 'Hardwood Floors']</td>\n",
       "      <td>40.7399</td>\n",
       "      <td>7013774</td>\n",
       "      <td>-73.9812</td>\n",
       "      <td>792c0f1ad1431397c65db3e69b770928</td>\n",
       "      <td>['https://photos.renthop.com/2/7013774_e7ead5d...</td>\n",
       "      <td>3000</td>\n",
       "      <td>217 E 25th St.</td>\n",
       "      <td>high</td>\n",
       "    </tr>\n",
       "    <tr>\n",
       "      <th>3</th>\n",
       "      <td>37765</td>\n",
       "      <td>1.0</td>\n",
       "      <td>2</td>\n",
       "      <td>d0234abbc01a982d54e8d446acc03405</td>\n",
       "      <td>05-06-2016 03:37</td>\n",
       "      <td>SPECTACULAR2 BEDROOM APARTMENT IN LUXURY 24HR ...</td>\n",
       "      <td>West 34th Street</td>\n",
       "      <td>['Doorman', 'Elevator', 'Dishwasher', 'Hardwoo...</td>\n",
       "      <td>40.7530</td>\n",
       "      <td>7113518</td>\n",
       "      <td>-73.9958</td>\n",
       "      <td>eb5a6c4c2eb6f3e2a085c477afd5a815</td>\n",
       "      <td>['https://photos.renthop.com/2/7113518_d234153...</td>\n",
       "      <td>3000</td>\n",
       "      <td>360 West 34th Street</td>\n",
       "      <td>high</td>\n",
       "    </tr>\n",
       "    <tr>\n",
       "      <th>4</th>\n",
       "      <td>67397</td>\n",
       "      <td>1.0</td>\n",
       "      <td>2</td>\n",
       "      <td>a36895b9975c6991ca0fa1d9a99023a1</td>\n",
       "      <td>26-05-2016 05:36</td>\n",
       "      <td>NO FEE.. Newly Reno XL Convertible 2 Br .. Pri...</td>\n",
       "      <td>East 72nd Street</td>\n",
       "      <td>['Dining Room', 'Doorman', 'Elevator', 'Fitnes...</td>\n",
       "      <td>40.7695</td>\n",
       "      <td>7071666</td>\n",
       "      <td>-73.9603</td>\n",
       "      <td>0a6ba20b892ed61df751420934d1ab51</td>\n",
       "      <td>['https://photos.renthop.com/2/7071666_4f81618...</td>\n",
       "      <td>3300</td>\n",
       "      <td>200 East 72nd Street</td>\n",
       "      <td>high</td>\n",
       "    </tr>\n",
       "    <tr>\n",
       "      <th>...</th>\n",
       "      <td>...</td>\n",
       "      <td>...</td>\n",
       "      <td>...</td>\n",
       "      <td>...</td>\n",
       "      <td>...</td>\n",
       "      <td>...</td>\n",
       "      <td>...</td>\n",
       "      <td>...</td>\n",
       "      <td>...</td>\n",
       "      <td>...</td>\n",
       "      <td>...</td>\n",
       "      <td>...</td>\n",
       "      <td>...</td>\n",
       "      <td>...</td>\n",
       "      <td>...</td>\n",
       "      <td>...</td>\n",
       "    </tr>\n",
       "    <tr>\n",
       "      <th>9866</th>\n",
       "      <td>100591</td>\n",
       "      <td>1.0</td>\n",
       "      <td>0</td>\n",
       "      <td>cd6e0616a89b2687b8d7b80a1e982ac2</td>\n",
       "      <td>08-04-2016 05:59</td>\n",
       "      <td>58TH! LARGE SPACIOUS STUDIO W/ SEPARATE KITCHE...</td>\n",
       "      <td>East 58th Street</td>\n",
       "      <td>['Pre-War', 'Dishwasher', 'Hardwood Floors', '...</td>\n",
       "      <td>40.7590</td>\n",
       "      <td>6844961</td>\n",
       "      <td>-73.9621</td>\n",
       "      <td>fc6e39fa6d54cfbc0109950411df29ca</td>\n",
       "      <td>['https://photos.renthop.com/2/6844961_5b045ca...</td>\n",
       "      <td>2000</td>\n",
       "      <td>401 East 58th Street</td>\n",
       "      <td>medium</td>\n",
       "    </tr>\n",
       "    <tr>\n",
       "      <th>9867</th>\n",
       "      <td>86449</td>\n",
       "      <td>1.0</td>\n",
       "      <td>2</td>\n",
       "      <td>27e0ae0427a5150191c73831eb901ab0</td>\n",
       "      <td>13-04-2016 15:40</td>\n",
       "      <td>Beautiful Renovated Large True 2 bedrrom apart...</td>\n",
       "      <td>EAST 11 TH ST</td>\n",
       "      <td>['Cats Allowed', 'Private Outdoor Space', 'Dog...</td>\n",
       "      <td>40.7187</td>\n",
       "      <td>6868922</td>\n",
       "      <td>-73.9919</td>\n",
       "      <td>3e0c28a1f4b9c11b809ff21dbb920b5c</td>\n",
       "      <td>['https://photos.renthop.com/2/6868922_d14a762...</td>\n",
       "      <td>3590</td>\n",
       "      <td>EAST 11 TH ST</td>\n",
       "      <td>medium</td>\n",
       "    </tr>\n",
       "    <tr>\n",
       "      <th>9868</th>\n",
       "      <td>44736</td>\n",
       "      <td>1.0</td>\n",
       "      <td>1</td>\n",
       "      <td>d843d07dfbd498625ffd8d9e6078745e</td>\n",
       "      <td>12-05-2016 05:41</td>\n",
       "      <td>Great Deal that won't last!Become a lucky resi...</td>\n",
       "      <td>Amsterdam Avenue</td>\n",
       "      <td>['Elevator', 'Furnished', 'Laundry in Unit', '...</td>\n",
       "      <td>40.8002</td>\n",
       "      <td>7002179</td>\n",
       "      <td>-73.9656</td>\n",
       "      <td>4c168ba2cf07ab943c98cada6160d2d1</td>\n",
       "      <td>['https://photos.renthop.com/2/7002179_2c2510f...</td>\n",
       "      <td>3000</td>\n",
       "      <td>933 Amsterdam Avenue</td>\n",
       "      <td>medium</td>\n",
       "    </tr>\n",
       "    <tr>\n",
       "      <th>9869</th>\n",
       "      <td>100906</td>\n",
       "      <td>1.0</td>\n",
       "      <td>0</td>\n",
       "      <td>b401b080b557697e91b2d19b5a22fac9</td>\n",
       "      <td>21-04-2016 04:56</td>\n",
       "      <td>Stunning West Village apartment available for ...</td>\n",
       "      <td>W 13 Street</td>\n",
       "      <td>['Elevator', 'Loft', 'Hardwood Floors', 'Dogs ...</td>\n",
       "      <td>40.7383</td>\n",
       "      <td>6906479</td>\n",
       "      <td>-74.0006</td>\n",
       "      <td>4414b04ea8115e64639b64b73737036a</td>\n",
       "      <td>['https://photos.renthop.com/2/6906479_a898cc6...</td>\n",
       "      <td>2525</td>\n",
       "      <td>205 W 13 Street</td>\n",
       "      <td>medium</td>\n",
       "    </tr>\n",
       "    <tr>\n",
       "      <th>9870</th>\n",
       "      <td>111796</td>\n",
       "      <td>1.0</td>\n",
       "      <td>0</td>\n",
       "      <td>05b871a1e1e0368391160bcefc608e00</td>\n",
       "      <td>30-04-2016 03:59</td>\n",
       "      <td>Amazing Luxury Building in the Flatiron / Chel...</td>\n",
       "      <td>W 18 St.</td>\n",
       "      <td>['Dining Room', 'Balcony', 'Doorman', 'Elevato...</td>\n",
       "      <td>40.7391</td>\n",
       "      <td>6946737</td>\n",
       "      <td>-73.9936</td>\n",
       "      <td>b2f322e6ea73856e1ee88bf0d08eb54c</td>\n",
       "      <td>['https://photos.renthop.com/2/6946737_da3d1b5...</td>\n",
       "      <td>3000</td>\n",
       "      <td>30 W 18 St.</td>\n",
       "      <td>medium</td>\n",
       "    </tr>\n",
       "  </tbody>\n",
       "</table>\n",
       "<p>9871 rows × 16 columns</p>\n",
       "</div>"
      ],
      "text/plain": [
       "      Unnamed: 0  bathrooms  bedrooms                       building_id  \\\n",
       "0         105408        1.0         0  0f9d07991ba14c82d3d368b72d90270a   \n",
       "1         110219        1.0         1  564d6f608f41e8d4a5e181c4e068e3d9   \n",
       "2          56113        1.0         1  69790fbf0bf7e22b1d0ebc721cf0f633   \n",
       "3          37765        1.0         2  d0234abbc01a982d54e8d446acc03405   \n",
       "4          67397        1.0         2  a36895b9975c6991ca0fa1d9a99023a1   \n",
       "...          ...        ...       ...                               ...   \n",
       "9866      100591        1.0         0  cd6e0616a89b2687b8d7b80a1e982ac2   \n",
       "9867       86449        1.0         2  27e0ae0427a5150191c73831eb901ab0   \n",
       "9868       44736        1.0         1  d843d07dfbd498625ffd8d9e6078745e   \n",
       "9869      100906        1.0         0  b401b080b557697e91b2d19b5a22fac9   \n",
       "9870      111796        1.0         0  05b871a1e1e0368391160bcefc608e00   \n",
       "\n",
       "               created                                        description  \\\n",
       "0     04-04-2016 03:34  Gorgeous unit in one of the most genuinely cov...   \n",
       "1     21-04-2016 20:40  Enormous 1 bedroom apartment in Murray Hill. F...   \n",
       "2     14-05-2016 05:44  This 1 bedroom, 1 bathroom spacious apartment ...   \n",
       "3     05-06-2016 03:37  SPECTACULAR2 BEDROOM APARTMENT IN LUXURY 24HR ...   \n",
       "4     26-05-2016 05:36  NO FEE.. Newly Reno XL Convertible 2 Br .. Pri...   \n",
       "...                ...                                                ...   \n",
       "9866  08-04-2016 05:59  58TH! LARGE SPACIOUS STUDIO W/ SEPARATE KITCHE...   \n",
       "9867  13-04-2016 15:40  Beautiful Renovated Large True 2 bedrrom apart...   \n",
       "9868  12-05-2016 05:41  Great Deal that won't last!Become a lucky resi...   \n",
       "9869  21-04-2016 04:56  Stunning West Village apartment available for ...   \n",
       "9870  30-04-2016 03:59  Amazing Luxury Building in the Flatiron / Chel...   \n",
       "\n",
       "             display_address  \\\n",
       "0     230 Central Park South   \n",
       "1                  E 39th St   \n",
       "2                 E 25th St.   \n",
       "3           West 34th Street   \n",
       "4           East 72nd Street   \n",
       "...                      ...   \n",
       "9866        East 58th Street   \n",
       "9867           EAST 11 TH ST   \n",
       "9868        Amsterdam Avenue   \n",
       "9869             W 13 Street   \n",
       "9870                W 18 St.   \n",
       "\n",
       "                                               features  latitude  listing_id  \\\n",
       "0     ['Cats Allowed', 'Dogs Allowed', 'Doorman', 'E...   40.7672     6827153   \n",
       "1     ['Cats Allowed', 'Dogs Allowed', 'Reduced Fee'...   40.7483     6908998   \n",
       "2          ['Elevator', 'Furnished', 'Hardwood Floors']   40.7399     7013774   \n",
       "3     ['Doorman', 'Elevator', 'Dishwasher', 'Hardwoo...   40.7530     7113518   \n",
       "4     ['Dining Room', 'Doorman', 'Elevator', 'Fitnes...   40.7695     7071666   \n",
       "...                                                 ...       ...         ...   \n",
       "9866  ['Pre-War', 'Dishwasher', 'Hardwood Floors', '...   40.7590     6844961   \n",
       "9867  ['Cats Allowed', 'Private Outdoor Space', 'Dog...   40.7187     6868922   \n",
       "9868  ['Elevator', 'Furnished', 'Laundry in Unit', '...   40.8002     7002179   \n",
       "9869  ['Elevator', 'Loft', 'Hardwood Floors', 'Dogs ...   40.7383     6906479   \n",
       "9870  ['Dining Room', 'Balcony', 'Doorman', 'Elevato...   40.7391     6946737   \n",
       "\n",
       "      longitude                        manager_id  \\\n",
       "0      -73.9802  932589de9230b697808216774fa26bd4   \n",
       "1      -73.9741  489ad933197469ae66acd1f7ce18f908   \n",
       "2      -73.9812  792c0f1ad1431397c65db3e69b770928   \n",
       "3      -73.9958  eb5a6c4c2eb6f3e2a085c477afd5a815   \n",
       "4      -73.9603  0a6ba20b892ed61df751420934d1ab51   \n",
       "...         ...                               ...   \n",
       "9866   -73.9621  fc6e39fa6d54cfbc0109950411df29ca   \n",
       "9867   -73.9919  3e0c28a1f4b9c11b809ff21dbb920b5c   \n",
       "9868   -73.9656  4c168ba2cf07ab943c98cada6160d2d1   \n",
       "9869   -74.0006  4414b04ea8115e64639b64b73737036a   \n",
       "9870   -73.9936  b2f322e6ea73856e1ee88bf0d08eb54c   \n",
       "\n",
       "                                                 photos  price  \\\n",
       "0     ['https://photos.renthop.com/2/6821519_0a14cc2...   2800   \n",
       "1     ['https://photos.renthop.com/2/6908998_6b00895...   2100   \n",
       "2     ['https://photos.renthop.com/2/7013774_e7ead5d...   3000   \n",
       "3     ['https://photos.renthop.com/2/7113518_d234153...   3000   \n",
       "4     ['https://photos.renthop.com/2/7071666_4f81618...   3300   \n",
       "...                                                 ...    ...   \n",
       "9866  ['https://photos.renthop.com/2/6844961_5b045ca...   2000   \n",
       "9867  ['https://photos.renthop.com/2/6868922_d14a762...   3590   \n",
       "9868  ['https://photos.renthop.com/2/7002179_2c2510f...   3000   \n",
       "9869  ['https://photos.renthop.com/2/6906479_a898cc6...   2525   \n",
       "9870  ['https://photos.renthop.com/2/6946737_da3d1b5...   3000   \n",
       "\n",
       "              street_address interest_level  \n",
       "0     230 Central Park South           high  \n",
       "1              243 E 39th St           high  \n",
       "2             217 E 25th St.           high  \n",
       "3       360 West 34th Street           high  \n",
       "4       200 East 72nd Street           high  \n",
       "...                      ...            ...  \n",
       "9866    401 East 58th Street         medium  \n",
       "9867           EAST 11 TH ST         medium  \n",
       "9868    933 Amsterdam Avenue         medium  \n",
       "9869         205 W 13 Street         medium  \n",
       "9870             30 W 18 St.         medium  \n",
       "\n",
       "[9871 rows x 16 columns]"
      ]
     },
     "execution_count": 7,
     "metadata": {},
     "output_type": "execute_result"
    }
   ],
   "source": [
    "df=pd.read_csv(\"DS2_C5_S6_AllRent_Data_Challenge.csv\")\n",
    "df"
   ]
  },
  {
   "cell_type": "code",
   "execution_count": 8,
   "id": "a070f11e",
   "metadata": {},
   "outputs": [
    {
     "data": {
      "text/plain": [
       "(9871, 16)"
      ]
     },
     "execution_count": 8,
     "metadata": {},
     "output_type": "execute_result"
    }
   ],
   "source": [
    "df.shape"
   ]
  },
  {
   "cell_type": "code",
   "execution_count": 9,
   "id": "c298af25",
   "metadata": {},
   "outputs": [
    {
     "data": {
      "text/plain": [
       "Index(['Unnamed: 0', 'bathrooms', 'bedrooms', 'building_id', 'created',\n",
       "       'description', 'display_address', 'features', 'latitude', 'listing_id',\n",
       "       'longitude', 'manager_id', 'photos', 'price', 'street_address',\n",
       "       'interest_level'],\n",
       "      dtype='object')"
      ]
     },
     "execution_count": 9,
     "metadata": {},
     "output_type": "execute_result"
    }
   ],
   "source": [
    "df.columns"
   ]
  },
  {
   "cell_type": "markdown",
   "id": "16562384",
   "metadata": {},
   "source": [
    "# 2.Data Exploration."
   ]
  },
  {
   "cell_type": "code",
   "execution_count": 10,
   "id": "36c47f7b",
   "metadata": {},
   "outputs": [
    {
     "name": "stdout",
     "output_type": "stream",
     "text": [
      "<class 'pandas.core.frame.DataFrame'>\n",
      "RangeIndex: 9871 entries, 0 to 9870\n",
      "Data columns (total 16 columns):\n",
      " #   Column           Non-Null Count  Dtype  \n",
      "---  ------           --------------  -----  \n",
      " 0   Unnamed: 0       9871 non-null   int64  \n",
      " 1   bathrooms        9871 non-null   float64\n",
      " 2   bedrooms         9871 non-null   int64  \n",
      " 3   building_id      9871 non-null   object \n",
      " 4   created          9871 non-null   object \n",
      " 5   description      9585 non-null   object \n",
      " 6   display_address  9837 non-null   object \n",
      " 7   features         9871 non-null   object \n",
      " 8   latitude         9871 non-null   float64\n",
      " 9   listing_id       9871 non-null   int64  \n",
      " 10  longitude        9871 non-null   float64\n",
      " 11  manager_id       9871 non-null   object \n",
      " 12  photos           9871 non-null   object \n",
      " 13  price            9871 non-null   int64  \n",
      " 14  street_address   9866 non-null   object \n",
      " 15  interest_level   9871 non-null   object \n",
      "dtypes: float64(3), int64(4), object(9)\n",
      "memory usage: 1.2+ MB\n"
     ]
    }
   ],
   "source": [
    "df.info()"
   ]
  },
  {
   "cell_type": "code",
   "execution_count": 11,
   "id": "45919a79",
   "metadata": {},
   "outputs": [
    {
     "data": {
      "text/html": [
       "<div>\n",
       "<style scoped>\n",
       "    .dataframe tbody tr th:only-of-type {\n",
       "        vertical-align: middle;\n",
       "    }\n",
       "\n",
       "    .dataframe tbody tr th {\n",
       "        vertical-align: top;\n",
       "    }\n",
       "\n",
       "    .dataframe thead th {\n",
       "        text-align: right;\n",
       "    }\n",
       "</style>\n",
       "<table border=\"1\" class=\"dataframe\">\n",
       "  <thead>\n",
       "    <tr style=\"text-align: right;\">\n",
       "      <th></th>\n",
       "      <th>Unnamed: 0</th>\n",
       "      <th>bathrooms</th>\n",
       "      <th>bedrooms</th>\n",
       "      <th>latitude</th>\n",
       "      <th>listing_id</th>\n",
       "      <th>longitude</th>\n",
       "      <th>price</th>\n",
       "    </tr>\n",
       "  </thead>\n",
       "  <tbody>\n",
       "    <tr>\n",
       "      <th>count</th>\n",
       "      <td>9871.000000</td>\n",
       "      <td>9871.000000</td>\n",
       "      <td>9871.000000</td>\n",
       "      <td>9871.000000</td>\n",
       "      <td>9.871000e+03</td>\n",
       "      <td>9871.000000</td>\n",
       "      <td>9871.000000</td>\n",
       "    </tr>\n",
       "    <tr>\n",
       "      <th>mean</th>\n",
       "      <td>61828.973154</td>\n",
       "      <td>1.210617</td>\n",
       "      <td>1.533685</td>\n",
       "      <td>40.747167</td>\n",
       "      <td>7.024062e+06</td>\n",
       "      <td>-73.965549</td>\n",
       "      <td>3662.860804</td>\n",
       "    </tr>\n",
       "    <tr>\n",
       "      <th>std</th>\n",
       "      <td>35901.607107</td>\n",
       "      <td>0.501985</td>\n",
       "      <td>1.106696</td>\n",
       "      <td>0.414548</td>\n",
       "      <td>1.269108e+05</td>\n",
       "      <td>0.760686</td>\n",
       "      <td>2559.911997</td>\n",
       "    </tr>\n",
       "    <tr>\n",
       "      <th>min</th>\n",
       "      <td>9.000000</td>\n",
       "      <td>0.000000</td>\n",
       "      <td>0.000000</td>\n",
       "      <td>0.000000</td>\n",
       "      <td>6.812005e+06</td>\n",
       "      <td>-87.613400</td>\n",
       "      <td>43.000000</td>\n",
       "    </tr>\n",
       "    <tr>\n",
       "      <th>25%</th>\n",
       "      <td>30968.000000</td>\n",
       "      <td>1.000000</td>\n",
       "      <td>1.000000</td>\n",
       "      <td>40.727500</td>\n",
       "      <td>6.914494e+06</td>\n",
       "      <td>-73.992200</td>\n",
       "      <td>2499.000000</td>\n",
       "    </tr>\n",
       "    <tr>\n",
       "      <th>50%</th>\n",
       "      <td>61354.000000</td>\n",
       "      <td>1.000000</td>\n",
       "      <td>1.000000</td>\n",
       "      <td>40.750600</td>\n",
       "      <td>7.022816e+06</td>\n",
       "      <td>-73.978300</td>\n",
       "      <td>3125.000000</td>\n",
       "    </tr>\n",
       "    <tr>\n",
       "      <th>75%</th>\n",
       "      <td>93229.500000</td>\n",
       "      <td>1.000000</td>\n",
       "      <td>2.000000</td>\n",
       "      <td>40.773900</td>\n",
       "      <td>7.130978e+06</td>\n",
       "      <td>-73.955100</td>\n",
       "      <td>4047.500000</td>\n",
       "    </tr>\n",
       "    <tr>\n",
       "      <th>max</th>\n",
       "      <td>123995.000000</td>\n",
       "      <td>10.000000</td>\n",
       "      <td>8.000000</td>\n",
       "      <td>43.034600</td>\n",
       "      <td>7.742631e+06</td>\n",
       "      <td>0.000000</td>\n",
       "      <td>90000.000000</td>\n",
       "    </tr>\n",
       "  </tbody>\n",
       "</table>\n",
       "</div>"
      ],
      "text/plain": [
       "          Unnamed: 0    bathrooms     bedrooms     latitude    listing_id  \\\n",
       "count    9871.000000  9871.000000  9871.000000  9871.000000  9.871000e+03   \n",
       "mean    61828.973154     1.210617     1.533685    40.747167  7.024062e+06   \n",
       "std     35901.607107     0.501985     1.106696     0.414548  1.269108e+05   \n",
       "min         9.000000     0.000000     0.000000     0.000000  6.812005e+06   \n",
       "25%     30968.000000     1.000000     1.000000    40.727500  6.914494e+06   \n",
       "50%     61354.000000     1.000000     1.000000    40.750600  7.022816e+06   \n",
       "75%     93229.500000     1.000000     2.000000    40.773900  7.130978e+06   \n",
       "max    123995.000000    10.000000     8.000000    43.034600  7.742631e+06   \n",
       "\n",
       "         longitude         price  \n",
       "count  9871.000000   9871.000000  \n",
       "mean    -73.965549   3662.860804  \n",
       "std       0.760686   2559.911997  \n",
       "min     -87.613400     43.000000  \n",
       "25%     -73.992200   2499.000000  \n",
       "50%     -73.978300   3125.000000  \n",
       "75%     -73.955100   4047.500000  \n",
       "max       0.000000  90000.000000  "
      ]
     },
     "execution_count": 11,
     "metadata": {},
     "output_type": "execute_result"
    }
   ],
   "source": [
    "df.describe()"
   ]
  },
  {
   "cell_type": "code",
   "execution_count": 12,
   "id": "57c01d19",
   "metadata": {},
   "outputs": [
    {
     "data": {
      "text/html": [
       "<div>\n",
       "<style scoped>\n",
       "    .dataframe tbody tr th:only-of-type {\n",
       "        vertical-align: middle;\n",
       "    }\n",
       "\n",
       "    .dataframe tbody tr th {\n",
       "        vertical-align: top;\n",
       "    }\n",
       "\n",
       "    .dataframe thead th {\n",
       "        text-align: right;\n",
       "    }\n",
       "</style>\n",
       "<table border=\"1\" class=\"dataframe\">\n",
       "  <thead>\n",
       "    <tr style=\"text-align: right;\">\n",
       "      <th></th>\n",
       "      <th>Unnamed: 0</th>\n",
       "      <th>bathrooms</th>\n",
       "      <th>bedrooms</th>\n",
       "      <th>latitude</th>\n",
       "      <th>listing_id</th>\n",
       "      <th>longitude</th>\n",
       "      <th>price</th>\n",
       "    </tr>\n",
       "  </thead>\n",
       "  <tbody>\n",
       "    <tr>\n",
       "      <th>Unnamed: 0</th>\n",
       "      <td>1.000000</td>\n",
       "      <td>-0.007826</td>\n",
       "      <td>-0.024353</td>\n",
       "      <td>-0.008849</td>\n",
       "      <td>-0.855608</td>\n",
       "      <td>0.005866</td>\n",
       "      <td>-0.010804</td>\n",
       "    </tr>\n",
       "    <tr>\n",
       "      <th>bathrooms</th>\n",
       "      <td>-0.007826</td>\n",
       "      <td>1.000000</td>\n",
       "      <td>0.528971</td>\n",
       "      <td>0.007422</td>\n",
       "      <td>0.000749</td>\n",
       "      <td>-0.000629</td>\n",
       "      <td>0.617426</td>\n",
       "    </tr>\n",
       "    <tr>\n",
       "      <th>bedrooms</th>\n",
       "      <td>-0.024353</td>\n",
       "      <td>0.528971</td>\n",
       "      <td>1.000000</td>\n",
       "      <td>0.015035</td>\n",
       "      <td>0.021417</td>\n",
       "      <td>-0.008100</td>\n",
       "      <td>0.431208</td>\n",
       "    </tr>\n",
       "    <tr>\n",
       "      <th>latitude</th>\n",
       "      <td>-0.008849</td>\n",
       "      <td>0.007422</td>\n",
       "      <td>0.015035</td>\n",
       "      <td>1.000000</td>\n",
       "      <td>0.012773</td>\n",
       "      <td>-0.967374</td>\n",
       "      <td>0.005881</td>\n",
       "    </tr>\n",
       "    <tr>\n",
       "      <th>listing_id</th>\n",
       "      <td>-0.855608</td>\n",
       "      <td>0.000749</td>\n",
       "      <td>0.021417</td>\n",
       "      <td>0.012773</td>\n",
       "      <td>1.000000</td>\n",
       "      <td>-0.008984</td>\n",
       "      <td>-0.000628</td>\n",
       "    </tr>\n",
       "    <tr>\n",
       "      <th>longitude</th>\n",
       "      <td>0.005866</td>\n",
       "      <td>-0.000629</td>\n",
       "      <td>-0.008100</td>\n",
       "      <td>-0.967374</td>\n",
       "      <td>-0.008984</td>\n",
       "      <td>1.000000</td>\n",
       "      <td>-0.009305</td>\n",
       "    </tr>\n",
       "    <tr>\n",
       "      <th>price</th>\n",
       "      <td>-0.010804</td>\n",
       "      <td>0.617426</td>\n",
       "      <td>0.431208</td>\n",
       "      <td>0.005881</td>\n",
       "      <td>-0.000628</td>\n",
       "      <td>-0.009305</td>\n",
       "      <td>1.000000</td>\n",
       "    </tr>\n",
       "  </tbody>\n",
       "</table>\n",
       "</div>"
      ],
      "text/plain": [
       "            Unnamed: 0  bathrooms  bedrooms  latitude  listing_id  longitude  \\\n",
       "Unnamed: 0    1.000000  -0.007826 -0.024353 -0.008849   -0.855608   0.005866   \n",
       "bathrooms    -0.007826   1.000000  0.528971  0.007422    0.000749  -0.000629   \n",
       "bedrooms     -0.024353   0.528971  1.000000  0.015035    0.021417  -0.008100   \n",
       "latitude     -0.008849   0.007422  0.015035  1.000000    0.012773  -0.967374   \n",
       "listing_id   -0.855608   0.000749  0.021417  0.012773    1.000000  -0.008984   \n",
       "longitude     0.005866  -0.000629 -0.008100 -0.967374   -0.008984   1.000000   \n",
       "price        -0.010804   0.617426  0.431208  0.005881   -0.000628  -0.009305   \n",
       "\n",
       "               price  \n",
       "Unnamed: 0 -0.010804  \n",
       "bathrooms   0.617426  \n",
       "bedrooms    0.431208  \n",
       "latitude    0.005881  \n",
       "listing_id -0.000628  \n",
       "longitude  -0.009305  \n",
       "price       1.000000  "
      ]
     },
     "execution_count": 12,
     "metadata": {},
     "output_type": "execute_result"
    }
   ],
   "source": [
    "df.corr()"
   ]
  },
  {
   "cell_type": "code",
   "execution_count": 13,
   "id": "325fc9b9",
   "metadata": {},
   "outputs": [
    {
     "data": {
      "text/plain": [
       "<AxesSubplot:>"
      ]
     },
     "execution_count": 13,
     "metadata": {},
     "output_type": "execute_result"
    },
    {
     "data": {
      "image/png": "[encoded data removed]",
      "text/plain": [
       "<Figure size 1500x800 with 2 Axes>"
      ]
     },
     "metadata": {},
     "output_type": "display_data"
    }
   ],
   "source": [
    "plt.figure(figsize=(15,8))\n",
    "sb.heatmap(df.corr(),annot=True,linecolor='k',linewidths=.5,cmap='binary_r',center=0)"
   ]
  },
  {
   "cell_type": "code",
   "execution_count": 14,
   "id": "636cf3a4",
   "metadata": {},
   "outputs": [
    {
     "name": "stdout",
     "output_type": "stream",
     "text": [
      "Unnamed: 0 = 9871\n",
      "bathrooms = 12\n",
      "bedrooms = 8\n",
      "building_id = 3275\n",
      "created = 7892\n",
      "description = 8680\n",
      "display_address = 3233\n",
      "features = 3548\n",
      "latitude = 1632\n",
      "listing_id = 9871\n",
      "longitude = 1169\n",
      "manager_id = 2074\n",
      "photos = 9186\n",
      "price = 1318\n",
      "street_address = 5509\n",
      "interest_level = 3\n"
     ]
    }
   ],
   "source": [
    "for i in df.columns:\n",
    "    print(i,'=',df[i].nunique())"
   ]
  },
  {
   "cell_type": "code",
   "execution_count": 15,
   "id": "cade9034",
   "metadata": {},
   "outputs": [],
   "source": [
    "df['created']=pd.to_datetime(df['created'])"
   ]
  },
  {
   "cell_type": "code",
   "execution_count": 16,
   "id": "e55c836e",
   "metadata": {},
   "outputs": [],
   "source": [
    "df['bathrooms']=df['bathrooms'].astype('category')\n",
    "df['bedrooms']=df['bedrooms'].astype('category')\n",
    "df['interest_level']=df['interest_level'].astype('category')"
   ]
  },
  {
   "cell_type": "markdown",
   "id": "628446ed",
   "metadata": {},
   "source": [
    "# Data Preprocessing."
   ]
  },
  {
   "cell_type": "code",
   "execution_count": 17,
   "id": "153afa43",
   "metadata": {},
   "outputs": [],
   "source": [
    "from sklearn.preprocessing import LabelEncoder\n",
    "a=LabelEncoder()\n",
    "df['bathrooms']=a.fit_transform(df['bathrooms'])\n",
    "df['bedrooms']=a.fit_transform(df['bedrooms'])\n",
    "df['building_id']=a.fit_transform(df['building_id'])\n",
    "df['created']=a.fit_transform(df['created'])\n",
    "df['description']=a.fit_transform(df['description'])\n",
    "df['display_address']=a.fit_transform(df['display_address'])\n",
    "df['features']=a.fit_transform(df['features'])\n",
    "df['manager_id']=a.fit_transform(df['manager_id'])\n",
    "df['photos']=a.fit_transform(df['photos'])\n",
    "df['street_address']=a.fit_transform(df['street_address'])\n",
    "df['interest_level']=a.fit_transform(df['interest_level'])"
   ]
  },
  {
   "cell_type": "code",
   "execution_count": 18,
   "id": "2f05ba3f",
   "metadata": {},
   "outputs": [],
   "source": [
    "cat=[]\n",
    "num=[]\n",
    "for i in df.columns:\n",
    "    if df[i].nunique()<20:\n",
    "        cat.append(i)\n",
    "    else:\n",
    "        num.append(i)"
   ]
  },
  {
   "cell_type": "code",
   "execution_count": 19,
   "id": "eb4a5ef6",
   "metadata": {},
   "outputs": [
    {
     "data": {
      "text/plain": [
       "['bathrooms', 'bedrooms', 'interest_level']"
      ]
     },
     "execution_count": 19,
     "metadata": {},
     "output_type": "execute_result"
    }
   ],
   "source": [
    "cat"
   ]
  },
  {
   "cell_type": "code",
   "execution_count": 20,
   "id": "b6de7751",
   "metadata": {},
   "outputs": [
    {
     "data": {
      "text/plain": [
       "['Unnamed: 0',\n",
       " 'building_id',\n",
       " 'created',\n",
       " 'description',\n",
       " 'display_address',\n",
       " 'features',\n",
       " 'latitude',\n",
       " 'listing_id',\n",
       " 'longitude',\n",
       " 'manager_id',\n",
       " 'photos',\n",
       " 'price',\n",
       " 'street_address']"
      ]
     },
     "execution_count": 20,
     "metadata": {},
     "output_type": "execute_result"
    }
   ],
   "source": [
    "num"
   ]
  },
  {
   "cell_type": "code",
   "execution_count": 21,
   "id": "fe625898",
   "metadata": {},
   "outputs": [
    {
     "data": {
      "image/png": "[encoded data removed]",
      "text/plain": [
       "<Figure size 1500x400 with 2 Axes>"
      ]
     },
     "metadata": {},
     "output_type": "display_data"
    }
   ],
   "source": [
    "cat_cols=cat\n",
    "num_col=2\n",
    "num_rows=int(len(cat_cols)/num_col)\n",
    "fig,axs=plt.subplots(num_rows,num_col,tight_layout=True,figsize=(15,4))\n",
    "for col,ax in zip(cat_cols,axs.flatten()[:len(cat_cols)]):\n",
    "    ax.pie(labels=df[col].value_counts().index,x=df[col].value_counts().values,autopct='%.2f%%')\n",
    "    ax.set_title(col)"
   ]
  },
  {
   "cell_type": "code",
   "execution_count": 22,
   "id": "239591a8",
   "metadata": {},
   "outputs": [
    {
     "data": {
      "image/png": "[encoded data removed]",
      "text/plain": [
       "<Figure size 1500x800 with 12 Axes>"
      ]
     },
     "metadata": {},
     "output_type": "display_data"
    }
   ],
   "source": [
    "numerica_cols=num\n",
    "num_col=4\n",
    "bins=50\n",
    "num_rows=int(len(numerica_cols)/num_col)\n",
    "fig,axs=plt.subplots(num_rows,num_col,tight_layout=True,figsize=(15,8))\n",
    "for col,ax in zip(numerica_cols,axs.flatten()[:len(numerica_cols)]):\n",
    "    ax.hist(df[col],bins=bins)\n",
    "    ax.set_title(col)"
   ]
  },
  {
   "cell_type": "code",
   "execution_count": 23,
   "id": "5cf2bcdf",
   "metadata": {},
   "outputs": [
    {
     "data": {
      "text/html": [
       "<div>\n",
       "<style scoped>\n",
       "    .dataframe tbody tr th:only-of-type {\n",
       "        vertical-align: middle;\n",
       "    }\n",
       "\n",
       "    .dataframe tbody tr th {\n",
       "        vertical-align: top;\n",
       "    }\n",
       "\n",
       "    .dataframe thead th {\n",
       "        text-align: right;\n",
       "    }\n",
       "</style>\n",
       "<table border=\"1\" class=\"dataframe\">\n",
       "  <thead>\n",
       "    <tr style=\"text-align: right;\">\n",
       "      <th></th>\n",
       "      <th>bathrooms</th>\n",
       "      <th>bedrooms</th>\n",
       "      <th>features</th>\n",
       "      <th>latitude</th>\n",
       "      <th>listing_id</th>\n",
       "      <th>longitude</th>\n",
       "      <th>price</th>\n",
       "      <th>interest_level</th>\n",
       "    </tr>\n",
       "  </thead>\n",
       "  <tbody>\n",
       "    <tr>\n",
       "      <th>0</th>\n",
       "      <td>1</td>\n",
       "      <td>0</td>\n",
       "      <td>169</td>\n",
       "      <td>40.7672</td>\n",
       "      <td>6827153</td>\n",
       "      <td>-73.9802</td>\n",
       "      <td>2800</td>\n",
       "      <td>0</td>\n",
       "    </tr>\n",
       "    <tr>\n",
       "      <th>1</th>\n",
       "      <td>1</td>\n",
       "      <td>1</td>\n",
       "      <td>320</td>\n",
       "      <td>40.7483</td>\n",
       "      <td>6908998</td>\n",
       "      <td>-73.9741</td>\n",
       "      <td>2100</td>\n",
       "      <td>0</td>\n",
       "    </tr>\n",
       "    <tr>\n",
       "      <th>2</th>\n",
       "      <td>1</td>\n",
       "      <td>1</td>\n",
       "      <td>1599</td>\n",
       "      <td>40.7399</td>\n",
       "      <td>7013774</td>\n",
       "      <td>-73.9812</td>\n",
       "      <td>3000</td>\n",
       "      <td>0</td>\n",
       "    </tr>\n",
       "    <tr>\n",
       "      <th>3</th>\n",
       "      <td>1</td>\n",
       "      <td>2</td>\n",
       "      <td>959</td>\n",
       "      <td>40.7530</td>\n",
       "      <td>7113518</td>\n",
       "      <td>-73.9958</td>\n",
       "      <td>3000</td>\n",
       "      <td>0</td>\n",
       "    </tr>\n",
       "    <tr>\n",
       "      <th>4</th>\n",
       "      <td>1</td>\n",
       "      <td>2</td>\n",
       "      <td>656</td>\n",
       "      <td>40.7695</td>\n",
       "      <td>7071666</td>\n",
       "      <td>-73.9603</td>\n",
       "      <td>3300</td>\n",
       "      <td>0</td>\n",
       "    </tr>\n",
       "    <tr>\n",
       "      <th>...</th>\n",
       "      <td>...</td>\n",
       "      <td>...</td>\n",
       "      <td>...</td>\n",
       "      <td>...</td>\n",
       "      <td>...</td>\n",
       "      <td>...</td>\n",
       "      <td>...</td>\n",
       "      <td>...</td>\n",
       "    </tr>\n",
       "    <tr>\n",
       "      <th>9866</th>\n",
       "      <td>1</td>\n",
       "      <td>0</td>\n",
       "      <td>2322</td>\n",
       "      <td>40.7590</td>\n",
       "      <td>6844961</td>\n",
       "      <td>-73.9621</td>\n",
       "      <td>2000</td>\n",
       "      <td>2</td>\n",
       "    </tr>\n",
       "    <tr>\n",
       "      <th>9867</th>\n",
       "      <td>1</td>\n",
       "      <td>2</td>\n",
       "      <td>365</td>\n",
       "      <td>40.7187</td>\n",
       "      <td>6868922</td>\n",
       "      <td>-73.9919</td>\n",
       "      <td>3590</td>\n",
       "      <td>2</td>\n",
       "    </tr>\n",
       "    <tr>\n",
       "      <th>9868</th>\n",
       "      <td>1</td>\n",
       "      <td>1</td>\n",
       "      <td>1603</td>\n",
       "      <td>40.8002</td>\n",
       "      <td>7002179</td>\n",
       "      <td>-73.9656</td>\n",
       "      <td>3000</td>\n",
       "      <td>2</td>\n",
       "    </tr>\n",
       "    <tr>\n",
       "      <th>9869</th>\n",
       "      <td>1</td>\n",
       "      <td>0</td>\n",
       "      <td>1690</td>\n",
       "      <td>40.7383</td>\n",
       "      <td>6906479</td>\n",
       "      <td>-74.0006</td>\n",
       "      <td>2525</td>\n",
       "      <td>2</td>\n",
       "    </tr>\n",
       "    <tr>\n",
       "      <th>9870</th>\n",
       "      <td>1</td>\n",
       "      <td>0</td>\n",
       "      <td>558</td>\n",
       "      <td>40.7391</td>\n",
       "      <td>6946737</td>\n",
       "      <td>-73.9936</td>\n",
       "      <td>3000</td>\n",
       "      <td>2</td>\n",
       "    </tr>\n",
       "  </tbody>\n",
       "</table>\n",
       "<p>9871 rows × 8 columns</p>\n",
       "</div>"
      ],
      "text/plain": [
       "      bathrooms  bedrooms  features  latitude  listing_id  longitude  price  \\\n",
       "0             1         0       169   40.7672     6827153   -73.9802   2800   \n",
       "1             1         1       320   40.7483     6908998   -73.9741   2100   \n",
       "2             1         1      1599   40.7399     7013774   -73.9812   3000   \n",
       "3             1         2       959   40.7530     7113518   -73.9958   3000   \n",
       "4             1         2       656   40.7695     7071666   -73.9603   3300   \n",
       "...         ...       ...       ...       ...         ...        ...    ...   \n",
       "9866          1         0      2322   40.7590     6844961   -73.9621   2000   \n",
       "9867          1         2       365   40.7187     6868922   -73.9919   3590   \n",
       "9868          1         1      1603   40.8002     7002179   -73.9656   3000   \n",
       "9869          1         0      1690   40.7383     6906479   -74.0006   2525   \n",
       "9870          1         0       558   40.7391     6946737   -73.9936   3000   \n",
       "\n",
       "      interest_level  \n",
       "0                  0  \n",
       "1                  0  \n",
       "2                  0  \n",
       "3                  0  \n",
       "4                  0  \n",
       "...              ...  \n",
       "9866               2  \n",
       "9867               2  \n",
       "9868               2  \n",
       "9869               2  \n",
       "9870               2  \n",
       "\n",
       "[9871 rows x 8 columns]"
      ]
     },
     "execution_count": 23,
     "metadata": {},
     "output_type": "execute_result"
    }
   ],
   "source": [
    "df=df.drop(columns=['Unnamed: 0','building_id','created','manager_id','street_address','display_address','description','photos'],axis=1)\n",
    "df"
   ]
  },
  {
   "cell_type": "markdown",
   "id": "b407f773",
   "metadata": {},
   "source": [
    "# Model Building"
   ]
  },
  {
   "cell_type": "markdown",
   "id": "d34cc896",
   "metadata": {},
   "source": [
    "# Base line for Logistic Regression"
   ]
  },
  {
   "cell_type": "code",
   "execution_count": 24,
   "id": "f4be108c",
   "metadata": {},
   "outputs": [],
   "source": [
    "x=df.drop(columns='interest_level',axis=1)\n",
    "y=df['interest_level']"
   ]
  },
  {
   "cell_type": "code",
   "execution_count": 25,
   "id": "30962f4f",
   "metadata": {},
   "outputs": [],
   "source": [
    "from sklearn.model_selection import train_test_split\n",
    "x_train,x_test,y_train,y_test=train_test_split(x,y,test_size=.2,random_state=42)"
   ]
  },
  {
   "cell_type": "code",
   "execution_count": 26,
   "id": "ca825f43",
   "metadata": {},
   "outputs": [],
   "source": [
    "from sklearn.preprocessing import StandardScaler\n",
    "scale=StandardScaler()\n",
    "x_train=scale.fit_transform(x_train)\n",
    "x_test=scale.fit_transform(x_test)"
   ]
  },
  {
   "cell_type": "code",
   "execution_count": 47,
   "id": "17e9798e",
   "metadata": {},
   "outputs": [
    {
     "data": {
      "text/plain": [
       "0.6927558257345492"
      ]
     },
     "execution_count": 47,
     "metadata": {},
     "output_type": "execute_result"
    }
   ],
   "source": [
    "from sklearn.linear_model import LogisticRegression\n",
    "DT=LogisticRegression()\n",
    "model=DT.fit(x_train,y_train)\n",
    "model.score(x_train,y_train)\n"
   ]
  },
  {
   "cell_type": "code",
   "execution_count": 28,
   "id": "663cfa3c",
   "metadata": {},
   "outputs": [
    {
     "data": {
      "text/plain": [
       "0.6950354609929078"
      ]
     },
     "execution_count": 28,
     "metadata": {},
     "output_type": "execute_result"
    }
   ],
   "source": [
    "model=DT.fit(x_test,y_test)\n",
    "model.score(x_train,y_train)"
   ]
  },
  {
   "cell_type": "code",
   "execution_count": 29,
   "id": "d2d00b15",
   "metadata": {},
   "outputs": [
    {
     "data": {
      "text/plain": [
       "array([1, 1, 1, ..., 1, 1, 1])"
      ]
     },
     "execution_count": 29,
     "metadata": {},
     "output_type": "execute_result"
    }
   ],
   "source": [
    "y_pred=model.predict(x_test)\n",
    "y_pred"
   ]
  },
  {
   "cell_type": "code",
   "execution_count": 30,
   "id": "f5a7973b",
   "metadata": {},
   "outputs": [
    {
     "name": "stdout",
     "output_type": "stream",
     "text": [
      "Accuracy_score 0.6911392405063291\n"
     ]
    }
   ],
   "source": [
    "from sklearn.metrics import accuracy_score\n",
    "print('Accuracy_score',accuracy_score(y_test,y_pred))"
   ]
  },
  {
   "cell_type": "code",
   "execution_count": 31,
   "id": "e6501f48",
   "metadata": {},
   "outputs": [
    {
     "name": "stdout",
     "output_type": "stream",
     "text": [
      "              precision    recall  f1-score   support\n",
      "\n",
      "           0       0.00      0.00      0.00       167\n",
      "           1       0.71      0.98      0.82      1358\n",
      "           2       0.41      0.08      0.14       450\n",
      "\n",
      "    accuracy                           0.69      1975\n",
      "   macro avg       0.37      0.35      0.32      1975\n",
      "weighted avg       0.58      0.69      0.60      1975\n",
      "\n"
     ]
    }
   ],
   "source": [
    "from sklearn.metrics import confusion_matrix,classification_report,accuracy_score,f1_score,recall_score,precision_score\n",
    "print(classification_report(y_test,y_pred))"
   ]
  },
  {
   "cell_type": "markdown",
   "id": "bc02078a",
   "metadata": {},
   "source": [
    "# Bagging for Random Forest"
   ]
  },
  {
   "cell_type": "code",
   "execution_count": 32,
   "id": "a20f4c50",
   "metadata": {},
   "outputs": [
    {
     "name": "stdout",
     "output_type": "stream",
     "text": [
      "mean_score 0.7044553444722329\n"
     ]
    }
   ],
   "source": [
    "name=[]\n",
    "accuracy=[]\n",
    "from sklearn.ensemble import RandomForestClassifier\n",
    "from sklearn.model_selection import RepeatedKFold\n",
    "from sklearn.model_selection import cross_val_score\n",
    "RF=RandomForestClassifier()\n",
    "cv=RepeatedKFold(n_splits=7,n_repeats=3,random_state=42)\n",
    "score=cross_val_score(RF,x,y,scoring='accuracy',cv=cv)\n",
    "print('mean_score',score.mean())\n",
    "name.append('RF')\n",
    "accuracy.append(score.mean())"
   ]
  },
  {
   "cell_type": "markdown",
   "id": "1f31bedf",
   "metadata": {},
   "source": [
    "# Boosting for Gradiant Boosting."
   ]
  },
  {
   "cell_type": "code",
   "execution_count": 33,
   "id": "5c4edf11",
   "metadata": {},
   "outputs": [
    {
     "name": "stdout",
     "output_type": "stream",
     "text": [
      "mean_score 0.7118165492292791\n"
     ]
    }
   ],
   "source": [
    "from sklearn.ensemble import GradientBoostingClassifier\n",
    "from sklearn.model_selection import RepeatedKFold\n",
    "from sklearn.model_selection import cross_val_score\n",
    "GB=GradientBoostingClassifier()\n",
    "cv=RepeatedKFold(n_splits=7,n_repeats=3,random_state=42)\n",
    "score=cross_val_score(GB,x,y,scoring='accuracy',cv=cv)\n",
    "print('mean_score',score.mean())\n",
    "name.append('GB')\n",
    "accuracy.append(score.mean())"
   ]
  },
  {
   "cell_type": "markdown",
   "id": "fb1e45bd",
   "metadata": {},
   "source": [
    "# Stacking"
   ]
  },
  {
   "cell_type": "code",
   "execution_count": 34,
   "id": "43d263bf",
   "metadata": {},
   "outputs": [],
   "source": [
    "from sklearn.naive_bayes import GaussianNB\n",
    "from sklearn.tree import DecisionTreeClassifier\n",
    "from sklearn.neighbors import KNeighborsClassifier\n",
    "from sklearn.linear_model import LogisticRegression\n",
    "from sklearn.svm import SVC\n",
    "from sklearn.ensemble import StackingClassifier"
   ]
  },
  {
   "cell_type": "code",
   "execution_count": 35,
   "id": "649b9afd",
   "metadata": {},
   "outputs": [],
   "source": [
    "def get_stacking():\n",
    "    #Base model\n",
    "    label=[]\n",
    "    label.append(('LOR',LogisticRegression()))\n",
    "    label.append(('DT',DecisionTreeClassifier()))\n",
    "    label.append(('KNN',KNeighborsClassifier()))\n",
    "    label.append(('SVM',SVC()))\n",
    "    #meta model\n",
    "    label1=[]\n",
    "    label1=GaussianNB()\n",
    "    #Define stacking\n",
    "    model1=StackingClassifier(estimators=label,final_estimator=label1,cv=6)\n",
    "    return model1\n",
    "    \n",
    "    "
   ]
  },
  {
   "cell_type": "code",
   "execution_count": 36,
   "id": "35cb2a17",
   "metadata": {},
   "outputs": [
    {
     "name": "stdout",
     "output_type": "stream",
     "text": [
      "mean_score 0.630804905060375\n"
     ]
    }
   ],
   "source": [
    "model1=get_stacking()\n",
    "cv=RepeatedKFold(n_splits=7,n_repeats=3,random_state=42)\n",
    "score=cross_val_score(model1,x,y,scoring='accuracy',cv=cv)\n",
    "print('mean_score',score.mean())\n",
    "name.append('Stacking')\n",
    "accuracy.append(score.mean())"
   ]
  },
  {
   "cell_type": "code",
   "execution_count": 37,
   "id": "01141104",
   "metadata": {},
   "outputs": [
    {
     "data": {
      "text/plain": [
       "['RF', 'GB', 'Stacking']"
      ]
     },
     "execution_count": 37,
     "metadata": {},
     "output_type": "execute_result"
    }
   ],
   "source": [
    "name"
   ]
  },
  {
   "cell_type": "code",
   "execution_count": 42,
   "id": "edceb884",
   "metadata": {},
   "outputs": [
    {
     "data": {
      "text/plain": [
       "[0.7044553444722329, 0.7118165492292791, 0.630804905060375]"
      ]
     },
     "execution_count": 42,
     "metadata": {},
     "output_type": "execute_result"
    }
   ],
   "source": [
    "accuracy"
   ]
  },
  {
   "cell_type": "markdown",
   "id": "e763a7a0",
   "metadata": {},
   "source": [
    "Conclusion:- Gradient Boosting is the Best moedel for training dataset."
   ]
  },
  {
   "cell_type": "code",
   "execution_count": 60,
   "id": "dbda22e1",
   "metadata": {},
   "outputs": [
    {
     "data": {
      "text/plain": [
       "dict_keys(['explained_variance', 'r2', 'max_error', 'neg_median_absolute_error', 'neg_mean_absolute_error', 'neg_mean_absolute_percentage_error', 'neg_mean_squared_error', 'neg_mean_squared_log_error', 'neg_root_mean_squared_error', 'neg_mean_poisson_deviance', 'neg_mean_gamma_deviance', 'accuracy', 'top_k_accuracy', 'roc_auc', 'roc_auc_ovr', 'roc_auc_ovo', 'roc_auc_ovr_weighted', 'roc_auc_ovo_weighted', 'balanced_accuracy', 'average_precision', 'neg_log_loss', 'neg_brier_score', 'adjusted_rand_score', 'rand_score', 'homogeneity_score', 'completeness_score', 'v_measure_score', 'mutual_info_score', 'adjusted_mutual_info_score', 'normalized_mutual_info_score', 'fowlkes_mallows_score', 'precision', 'precision_macro', 'precision_micro', 'precision_samples', 'precision_weighted', 'recall', 'recall_macro', 'recall_micro', 'recall_samples', 'recall_weighted', 'f1', 'f1_macro', 'f1_micro', 'f1_samples', 'f1_weighted', 'jaccard', 'jaccard_macro', 'jaccard_micro', 'jaccard_samples', 'jaccard_weighted'])"
      ]
     },
     "execution_count": 60,
     "metadata": {},
     "output_type": "execute_result"
    }
   ],
   "source": [
    "import sklearn\n",
    "sklearn.metrics.SCORERS.keys()"
   ]
  },
  {
   "cell_type": "code",
   "execution_count": null,
   "id": "7062c6ed",
   "metadata": {},
   "outputs": [],
   "source": []
  }
 ],
 "metadata": {
  "kernelspec": {
   "display_name": "Python 3 (ipykernel)",
   "language": "python",
   "name": "python3"
  },
  "language_info": {
   "codemirror_mode": {
    "name": "ipython",
    "version": 3
   },
   "file_extension": ".py",
   "mimetype": "text/x-python",
   "name": "python",
   "nbconvert_exporter": "python",
   "pygments_lexer": "ipython3",
   "version": "3.9.13"
  }
 },
 "nbformat": 4,
 "nbformat_minor": 5
}
