{
 "cells": [
  {
   "cell_type": "markdown",
   "id": "c9e027b2",
   "metadata": {},
   "source": [
    "# 1.Import required python libraries."
   ]
  },
  {
   "cell_type": "code",
   "execution_count": 1,
   "id": "3d56f1cd",
   "metadata": {},
   "outputs": [],
   "source": [
    "import numpy as np\n",
    "import pandas as pd\n",
    "import matplotlib.pyplot as plt\n",
    "import seaborn as sb\n",
    "from sklearn.linear_model import LogisticRegression\n",
    "from sklearn.model_selection import train_test_split\n",
    "from sklearn import preprocessing\n",
    "from sklearn.metrics import mean_squared_error\n",
    "from sklearn.metrics import mean_absolute_error\n",
    "import warnings\n",
    "warnings.filterwarnings('ignore')"
   ]
  },
  {
   "cell_type": "markdown",
   "id": "7da7902f",
   "metadata": {},
   "source": [
    "# 2.Import data from the data source."
   ]
  },
  {
   "cell_type": "code",
   "execution_count": 2,
   "id": "d983df9f",
   "metadata": {},
   "outputs": [
    {
     "data": {
      "text/html": [
       "<div>\n",
       "<style scoped>\n",
       "    .dataframe tbody tr th:only-of-type {\n",
       "        vertical-align: middle;\n",
       "    }\n",
       "\n",
       "    .dataframe tbody tr th {\n",
       "        vertical-align: top;\n",
       "    }\n",
       "\n",
       "    .dataframe thead th {\n",
       "        text-align: right;\n",
       "    }\n",
       "</style>\n",
       "<table border=\"1\" class=\"dataframe\">\n",
       "  <thead>\n",
       "    <tr style=\"text-align: right;\">\n",
       "      <th></th>\n",
       "      <th>Age</th>\n",
       "      <th>WorkClass</th>\n",
       "      <th>Fnlwgt</th>\n",
       "      <th>Education</th>\n",
       "      <th>Education_Num</th>\n",
       "      <th>Marital_Status</th>\n",
       "      <th>Occupation</th>\n",
       "      <th>Relationship</th>\n",
       "      <th>Race</th>\n",
       "      <th>Gender</th>\n",
       "      <th>Capital_Gain</th>\n",
       "      <th>Capital_Loss</th>\n",
       "      <th>Hours_Per_Week</th>\n",
       "      <th>Native_Country</th>\n",
       "      <th>Income_Bracket</th>\n",
       "    </tr>\n",
       "  </thead>\n",
       "  <tbody>\n",
       "    <tr>\n",
       "      <th>0</th>\n",
       "      <td>39</td>\n",
       "      <td>State-gov</td>\n",
       "      <td>77516</td>\n",
       "      <td>Bachelors</td>\n",
       "      <td>13</td>\n",
       "      <td>Never-married</td>\n",
       "      <td>Adm-clerical</td>\n",
       "      <td>Not-in-family</td>\n",
       "      <td>White</td>\n",
       "      <td>Male</td>\n",
       "      <td>2174.0</td>\n",
       "      <td>0.0</td>\n",
       "      <td>40.0</td>\n",
       "      <td>United-States</td>\n",
       "      <td>&lt;=50K</td>\n",
       "    </tr>\n",
       "    <tr>\n",
       "      <th>1</th>\n",
       "      <td>50</td>\n",
       "      <td>Self-emp-not-inc</td>\n",
       "      <td>83311</td>\n",
       "      <td>Bachelors</td>\n",
       "      <td>13</td>\n",
       "      <td>Married-civ-spouse</td>\n",
       "      <td>Exec-managerial</td>\n",
       "      <td>Husband</td>\n",
       "      <td>White</td>\n",
       "      <td>Male</td>\n",
       "      <td>0.0</td>\n",
       "      <td>0.0</td>\n",
       "      <td>13.0</td>\n",
       "      <td>United-States</td>\n",
       "      <td>&lt;=50K</td>\n",
       "    </tr>\n",
       "    <tr>\n",
       "      <th>2</th>\n",
       "      <td>38</td>\n",
       "      <td>Private</td>\n",
       "      <td>215646</td>\n",
       "      <td>HS-grad</td>\n",
       "      <td>9</td>\n",
       "      <td>Divorced</td>\n",
       "      <td>Handlers-cleaners</td>\n",
       "      <td>Not-in-family</td>\n",
       "      <td>White</td>\n",
       "      <td>Male</td>\n",
       "      <td>0.0</td>\n",
       "      <td>0.0</td>\n",
       "      <td>40.0</td>\n",
       "      <td>United-States</td>\n",
       "      <td>&lt;=50K</td>\n",
       "    </tr>\n",
       "    <tr>\n",
       "      <th>3</th>\n",
       "      <td>53</td>\n",
       "      <td>Private</td>\n",
       "      <td>234721</td>\n",
       "      <td>11th</td>\n",
       "      <td>7</td>\n",
       "      <td>Married-civ-spouse</td>\n",
       "      <td>Handlers-cleaners</td>\n",
       "      <td>Husband</td>\n",
       "      <td>Black</td>\n",
       "      <td>Male</td>\n",
       "      <td>0.0</td>\n",
       "      <td>0.0</td>\n",
       "      <td>40.0</td>\n",
       "      <td>United-States</td>\n",
       "      <td>&lt;=50K</td>\n",
       "    </tr>\n",
       "    <tr>\n",
       "      <th>4</th>\n",
       "      <td>28</td>\n",
       "      <td>Private</td>\n",
       "      <td>338409</td>\n",
       "      <td>Bachelors</td>\n",
       "      <td>13</td>\n",
       "      <td>Married-civ-spouse</td>\n",
       "      <td>Prof-specialty</td>\n",
       "      <td>Wife</td>\n",
       "      <td>Black</td>\n",
       "      <td>Female</td>\n",
       "      <td>0.0</td>\n",
       "      <td>0.0</td>\n",
       "      <td>40.0</td>\n",
       "      <td>Cuba</td>\n",
       "      <td>&lt;=50K</td>\n",
       "    </tr>\n",
       "    <tr>\n",
       "      <th>...</th>\n",
       "      <td>...</td>\n",
       "      <td>...</td>\n",
       "      <td>...</td>\n",
       "      <td>...</td>\n",
       "      <td>...</td>\n",
       "      <td>...</td>\n",
       "      <td>...</td>\n",
       "      <td>...</td>\n",
       "      <td>...</td>\n",
       "      <td>...</td>\n",
       "      <td>...</td>\n",
       "      <td>...</td>\n",
       "      <td>...</td>\n",
       "      <td>...</td>\n",
       "      <td>...</td>\n",
       "    </tr>\n",
       "    <tr>\n",
       "      <th>5220</th>\n",
       "      <td>44</td>\n",
       "      <td>Private</td>\n",
       "      <td>266135</td>\n",
       "      <td>Bachelors</td>\n",
       "      <td>13</td>\n",
       "      <td>Married-civ-spouse</td>\n",
       "      <td>Prof-specialty</td>\n",
       "      <td>Husband</td>\n",
       "      <td>White</td>\n",
       "      <td>Male</td>\n",
       "      <td>0.0</td>\n",
       "      <td>0.0</td>\n",
       "      <td>50.0</td>\n",
       "      <td>United-States</td>\n",
       "      <td>&gt;50K</td>\n",
       "    </tr>\n",
       "    <tr>\n",
       "      <th>5221</th>\n",
       "      <td>18</td>\n",
       "      <td>Private</td>\n",
       "      <td>300379</td>\n",
       "      <td>12th</td>\n",
       "      <td>8</td>\n",
       "      <td>Never-married</td>\n",
       "      <td>Adm-clerical</td>\n",
       "      <td>Own-child</td>\n",
       "      <td>White</td>\n",
       "      <td>Male</td>\n",
       "      <td>0.0</td>\n",
       "      <td>0.0</td>\n",
       "      <td>12.0</td>\n",
       "      <td>United-States</td>\n",
       "      <td>&lt;=50K</td>\n",
       "    </tr>\n",
       "    <tr>\n",
       "      <th>5222</th>\n",
       "      <td>54</td>\n",
       "      <td>Federal-gov</td>\n",
       "      <td>392502</td>\n",
       "      <td>Some-college</td>\n",
       "      <td>10</td>\n",
       "      <td>Married-civ-spouse</td>\n",
       "      <td>Prof-specialty</td>\n",
       "      <td>Husband</td>\n",
       "      <td>White</td>\n",
       "      <td>Male</td>\n",
       "      <td>0.0</td>\n",
       "      <td>0.0</td>\n",
       "      <td>40.0</td>\n",
       "      <td>United-States</td>\n",
       "      <td>&gt;50K</td>\n",
       "    </tr>\n",
       "    <tr>\n",
       "      <th>5223</th>\n",
       "      <td>61</td>\n",
       "      <td>Private</td>\n",
       "      <td>73809</td>\n",
       "      <td>Some-college</td>\n",
       "      <td>10</td>\n",
       "      <td>Divorced</td>\n",
       "      <td>Adm-clerical</td>\n",
       "      <td>Not-in-family</td>\n",
       "      <td>White</td>\n",
       "      <td>Female</td>\n",
       "      <td>0.0</td>\n",
       "      <td>0.0</td>\n",
       "      <td>40.0</td>\n",
       "      <td>United-States</td>\n",
       "      <td>&lt;=50K</td>\n",
       "    </tr>\n",
       "    <tr>\n",
       "      <th>5224</th>\n",
       "      <td>51</td>\n",
       "      <td>Private</td>\n",
       "      <td>193720</td>\n",
       "      <td>Bachelors</td>\n",
       "      <td>13</td>\n",
       "      <td>Marri</td>\n",
       "      <td>NaN</td>\n",
       "      <td>NaN</td>\n",
       "      <td>NaN</td>\n",
       "      <td>NaN</td>\n",
       "      <td>NaN</td>\n",
       "      <td>NaN</td>\n",
       "      <td>NaN</td>\n",
       "      <td>NaN</td>\n",
       "      <td>NaN</td>\n",
       "    </tr>\n",
       "  </tbody>\n",
       "</table>\n",
       "<p>5225 rows × 15 columns</p>\n",
       "</div>"
      ],
      "text/plain": [
       "      Age          WorkClass  Fnlwgt      Education  Education_Num  \\\n",
       "0      39          State-gov   77516      Bachelors             13   \n",
       "1      50   Self-emp-not-inc   83311      Bachelors             13   \n",
       "2      38            Private  215646        HS-grad              9   \n",
       "3      53            Private  234721           11th              7   \n",
       "4      28            Private  338409      Bachelors             13   \n",
       "...   ...                ...     ...            ...            ...   \n",
       "5220   44            Private  266135      Bachelors             13   \n",
       "5221   18            Private  300379           12th              8   \n",
       "5222   54        Federal-gov  392502   Some-college             10   \n",
       "5223   61            Private   73809   Some-college             10   \n",
       "5224   51            Private  193720      Bachelors             13   \n",
       "\n",
       "           Marital_Status          Occupation    Relationship    Race  \\\n",
       "0           Never-married        Adm-clerical   Not-in-family   White   \n",
       "1      Married-civ-spouse     Exec-managerial         Husband   White   \n",
       "2                Divorced   Handlers-cleaners   Not-in-family   White   \n",
       "3      Married-civ-spouse   Handlers-cleaners         Husband   Black   \n",
       "4      Married-civ-spouse      Prof-specialty            Wife   Black   \n",
       "...                   ...                 ...             ...     ...   \n",
       "5220   Married-civ-spouse      Prof-specialty         Husband   White   \n",
       "5221        Never-married        Adm-clerical       Own-child   White   \n",
       "5222   Married-civ-spouse      Prof-specialty         Husband   White   \n",
       "5223             Divorced        Adm-clerical   Not-in-family   White   \n",
       "5224                Marri                 NaN             NaN     NaN   \n",
       "\n",
       "       Gender  Capital_Gain  Capital_Loss  Hours_Per_Week  Native_Country  \\\n",
       "0        Male        2174.0           0.0            40.0   United-States   \n",
       "1        Male           0.0           0.0            13.0   United-States   \n",
       "2        Male           0.0           0.0            40.0   United-States   \n",
       "3        Male           0.0           0.0            40.0   United-States   \n",
       "4      Female           0.0           0.0            40.0            Cuba   \n",
       "...       ...           ...           ...             ...             ...   \n",
       "5220     Male           0.0           0.0            50.0   United-States   \n",
       "5221     Male           0.0           0.0            12.0   United-States   \n",
       "5222     Male           0.0           0.0            40.0   United-States   \n",
       "5223   Female           0.0           0.0            40.0   United-States   \n",
       "5224      NaN           NaN           NaN             NaN             NaN   \n",
       "\n",
       "     Income_Bracket  \n",
       "0             <=50K  \n",
       "1             <=50K  \n",
       "2             <=50K  \n",
       "3             <=50K  \n",
       "4             <=50K  \n",
       "...             ...  \n",
       "5220           >50K  \n",
       "5221          <=50K  \n",
       "5222           >50K  \n",
       "5223          <=50K  \n",
       "5224            NaN  \n",
       "\n",
       "[5225 rows x 15 columns]"
      ]
     },
     "execution_count": 2,
     "metadata": {},
     "output_type": "execute_result"
    }
   ],
   "source": [
    "income_df=pd.read_csv('DS2_C5_S3_Income_Data_Challenge.csv.crdownload')\n",
    "income_df"
   ]
  },
  {
   "cell_type": "code",
   "execution_count": 3,
   "id": "ce562bde",
   "metadata": {},
   "outputs": [
    {
     "data": {
      "text/plain": [
       "Index(['Age', 'WorkClass', 'Fnlwgt', 'Education', 'Education_Num',\n",
       "       'Marital_Status', 'Occupation', 'Relationship', 'Race', 'Gender',\n",
       "       'Capital_Gain', 'Capital_Loss', 'Hours_Per_Week', 'Native_Country',\n",
       "       'Income_Bracket'],\n",
       "      dtype='object')"
      ]
     },
     "execution_count": 3,
     "metadata": {},
     "output_type": "execute_result"
    }
   ],
   "source": [
    "income_df.columns"
   ]
  },
  {
   "cell_type": "code",
   "execution_count": 4,
   "id": "6a072274",
   "metadata": {},
   "outputs": [
    {
     "data": {
      "text/plain": [
       "(5225, 15)"
      ]
     },
     "execution_count": 4,
     "metadata": {},
     "output_type": "execute_result"
    }
   ],
   "source": [
    "income_df.shape"
   ]
  },
  {
   "cell_type": "markdown",
   "id": "14a45e58",
   "metadata": {},
   "source": [
    "# 3.Check the structure of data."
   ]
  },
  {
   "cell_type": "code",
   "execution_count": 5,
   "id": "6f251286",
   "metadata": {
    "scrolled": true
   },
   "outputs": [
    {
     "name": "stdout",
     "output_type": "stream",
     "text": [
      "<class 'pandas.core.frame.DataFrame'>\n",
      "RangeIndex: 5225 entries, 0 to 5224\n",
      "Data columns (total 15 columns):\n",
      " #   Column          Non-Null Count  Dtype  \n",
      "---  ------          --------------  -----  \n",
      " 0   Age             5225 non-null   int64  \n",
      " 1   WorkClass       5225 non-null   object \n",
      " 2   Fnlwgt          5225 non-null   int64  \n",
      " 3   Education       5225 non-null   object \n",
      " 4   Education_Num   5225 non-null   int64  \n",
      " 5   Marital_Status  5225 non-null   object \n",
      " 6   Occupation      5224 non-null   object \n",
      " 7   Relationship    5224 non-null   object \n",
      " 8   Race            5224 non-null   object \n",
      " 9   Gender          5224 non-null   object \n",
      " 10  Capital_Gain    5224 non-null   float64\n",
      " 11  Capital_Loss    5224 non-null   float64\n",
      " 12  Hours_Per_Week  5224 non-null   float64\n",
      " 13  Native_Country  5224 non-null   object \n",
      " 14  Income_Bracket  5224 non-null   object \n",
      "dtypes: float64(3), int64(3), object(9)\n",
      "memory usage: 612.4+ KB\n"
     ]
    }
   ],
   "source": [
    "income_df.info()"
   ]
  },
  {
   "cell_type": "markdown",
   "id": "720679e5",
   "metadata": {},
   "source": [
    "# 4.Summarise the data."
   ]
  },
  {
   "cell_type": "code",
   "execution_count": 6,
   "id": "953c0555",
   "metadata": {},
   "outputs": [
    {
     "data": {
      "text/html": [
       "<div>\n",
       "<style scoped>\n",
       "    .dataframe tbody tr th:only-of-type {\n",
       "        vertical-align: middle;\n",
       "    }\n",
       "\n",
       "    .dataframe tbody tr th {\n",
       "        vertical-align: top;\n",
       "    }\n",
       "\n",
       "    .dataframe thead th {\n",
       "        text-align: right;\n",
       "    }\n",
       "</style>\n",
       "<table border=\"1\" class=\"dataframe\">\n",
       "  <thead>\n",
       "    <tr style=\"text-align: right;\">\n",
       "      <th></th>\n",
       "      <th>Age</th>\n",
       "      <th>Fnlwgt</th>\n",
       "      <th>Education_Num</th>\n",
       "      <th>Capital_Gain</th>\n",
       "      <th>Capital_Loss</th>\n",
       "      <th>Hours_Per_Week</th>\n",
       "    </tr>\n",
       "  </thead>\n",
       "  <tbody>\n",
       "    <tr>\n",
       "      <th>count</th>\n",
       "      <td>5225.000000</td>\n",
       "      <td>5.225000e+03</td>\n",
       "      <td>5225.000000</td>\n",
       "      <td>5224.000000</td>\n",
       "      <td>5224.000000</td>\n",
       "      <td>5224.000000</td>\n",
       "    </tr>\n",
       "    <tr>\n",
       "      <th>mean</th>\n",
       "      <td>38.631196</td>\n",
       "      <td>1.903736e+05</td>\n",
       "      <td>10.077703</td>\n",
       "      <td>1052.987940</td>\n",
       "      <td>94.003828</td>\n",
       "      <td>40.487749</td>\n",
       "    </tr>\n",
       "    <tr>\n",
       "      <th>std</th>\n",
       "      <td>13.617732</td>\n",
       "      <td>1.058690e+05</td>\n",
       "      <td>2.541932</td>\n",
       "      <td>7186.668709</td>\n",
       "      <td>411.567419</td>\n",
       "      <td>12.094491</td>\n",
       "    </tr>\n",
       "    <tr>\n",
       "      <th>min</th>\n",
       "      <td>17.000000</td>\n",
       "      <td>1.930200e+04</td>\n",
       "      <td>1.000000</td>\n",
       "      <td>0.000000</td>\n",
       "      <td>0.000000</td>\n",
       "      <td>1.000000</td>\n",
       "    </tr>\n",
       "    <tr>\n",
       "      <th>25%</th>\n",
       "      <td>28.000000</td>\n",
       "      <td>1.178330e+05</td>\n",
       "      <td>9.000000</td>\n",
       "      <td>0.000000</td>\n",
       "      <td>0.000000</td>\n",
       "      <td>40.000000</td>\n",
       "    </tr>\n",
       "    <tr>\n",
       "      <th>50%</th>\n",
       "      <td>37.000000</td>\n",
       "      <td>1.791860e+05</td>\n",
       "      <td>10.000000</td>\n",
       "      <td>0.000000</td>\n",
       "      <td>0.000000</td>\n",
       "      <td>40.000000</td>\n",
       "    </tr>\n",
       "    <tr>\n",
       "      <th>75%</th>\n",
       "      <td>48.000000</td>\n",
       "      <td>2.412590e+05</td>\n",
       "      <td>12.000000</td>\n",
       "      <td>0.000000</td>\n",
       "      <td>0.000000</td>\n",
       "      <td>45.000000</td>\n",
       "    </tr>\n",
       "    <tr>\n",
       "      <th>max</th>\n",
       "      <td>90.000000</td>\n",
       "      <td>1.033222e+06</td>\n",
       "      <td>16.000000</td>\n",
       "      <td>99999.000000</td>\n",
       "      <td>2547.000000</td>\n",
       "      <td>99.000000</td>\n",
       "    </tr>\n",
       "  </tbody>\n",
       "</table>\n",
       "</div>"
      ],
      "text/plain": [
       "               Age        Fnlwgt  Education_Num  Capital_Gain  Capital_Loss  \\\n",
       "count  5225.000000  5.225000e+03    5225.000000   5224.000000   5224.000000   \n",
       "mean     38.631196  1.903736e+05      10.077703   1052.987940     94.003828   \n",
       "std      13.617732  1.058690e+05       2.541932   7186.668709    411.567419   \n",
       "min      17.000000  1.930200e+04       1.000000      0.000000      0.000000   \n",
       "25%      28.000000  1.178330e+05       9.000000      0.000000      0.000000   \n",
       "50%      37.000000  1.791860e+05      10.000000      0.000000      0.000000   \n",
       "75%      48.000000  2.412590e+05      12.000000      0.000000      0.000000   \n",
       "max      90.000000  1.033222e+06      16.000000  99999.000000   2547.000000   \n",
       "\n",
       "       Hours_Per_Week  \n",
       "count     5224.000000  \n",
       "mean        40.487749  \n",
       "std         12.094491  \n",
       "min          1.000000  \n",
       "25%         40.000000  \n",
       "50%         40.000000  \n",
       "75%         45.000000  \n",
       "max         99.000000  "
      ]
     },
     "execution_count": 6,
     "metadata": {},
     "output_type": "execute_result"
    }
   ],
   "source": [
    "income_df.describe()"
   ]
  },
  {
   "cell_type": "code",
   "execution_count": 7,
   "id": "86fc5a80",
   "metadata": {},
   "outputs": [],
   "source": [
    "cat=[]\n",
    "num=[]\n",
    "for i in income_df.columns:\n",
    "    if income_df[i].nunique()<10:\n",
    "        cat.append(i)\n",
    "    else:\n",
    "        num.append(i)"
   ]
  },
  {
   "cell_type": "code",
   "execution_count": 8,
   "id": "8fdb840f",
   "metadata": {},
   "outputs": [
    {
     "data": {
      "text/plain": [
       "['WorkClass',\n",
       " 'Marital_Status',\n",
       " 'Relationship',\n",
       " 'Race',\n",
       " 'Gender',\n",
       " 'Income_Bracket']"
      ]
     },
     "execution_count": 8,
     "metadata": {},
     "output_type": "execute_result"
    }
   ],
   "source": [
    "cat"
   ]
  },
  {
   "cell_type": "code",
   "execution_count": 9,
   "id": "5a9407a8",
   "metadata": {},
   "outputs": [
    {
     "data": {
      "text/plain": [
       "['Age',\n",
       " 'Fnlwgt',\n",
       " 'Education',\n",
       " 'Education_Num',\n",
       " 'Occupation',\n",
       " 'Capital_Gain',\n",
       " 'Capital_Loss',\n",
       " 'Hours_Per_Week',\n",
       " 'Native_Country']"
      ]
     },
     "execution_count": 9,
     "metadata": {},
     "output_type": "execute_result"
    }
   ],
   "source": [
    "num"
   ]
  },
  {
   "cell_type": "markdown",
   "id": "721a4d73",
   "metadata": {},
   "source": [
    "# Task 2"
   ]
  },
  {
   "cell_type": "markdown",
   "id": "b461aad8",
   "metadata": {},
   "source": [
    "# 1.Check if there is any missing value exists in any feature.identity those features."
   ]
  },
  {
   "cell_type": "code",
   "execution_count": 10,
   "id": "3e4f7dea",
   "metadata": {},
   "outputs": [
    {
     "data": {
      "text/plain": [
       "Age               0\n",
       "WorkClass         0\n",
       "Fnlwgt            0\n",
       "Education         0\n",
       "Education_Num     0\n",
       "Marital_Status    0\n",
       "Occupation        1\n",
       "Relationship      1\n",
       "Race              1\n",
       "Gender            1\n",
       "Capital_Gain      1\n",
       "Capital_Loss      1\n",
       "Hours_Per_Week    1\n",
       "Native_Country    1\n",
       "Income_Bracket    1\n",
       "dtype: int64"
      ]
     },
     "execution_count": 10,
     "metadata": {},
     "output_type": "execute_result"
    }
   ],
   "source": [
    "income_df.isnull().sum()"
   ]
  },
  {
   "cell_type": "markdown",
   "id": "765c365d",
   "metadata": {},
   "source": [
    "# 2.Perform missing value treatment for catgorical and numerical features if any require."
   ]
  },
  {
   "cell_type": "code",
   "execution_count": 11,
   "id": "791a5aa6",
   "metadata": {},
   "outputs": [
    {
     "data": {
      "text/html": [
       "<div>\n",
       "<style scoped>\n",
       "    .dataframe tbody tr th:only-of-type {\n",
       "        vertical-align: middle;\n",
       "    }\n",
       "\n",
       "    .dataframe tbody tr th {\n",
       "        vertical-align: top;\n",
       "    }\n",
       "\n",
       "    .dataframe thead th {\n",
       "        text-align: right;\n",
       "    }\n",
       "</style>\n",
       "<table border=\"1\" class=\"dataframe\">\n",
       "  <thead>\n",
       "    <tr style=\"text-align: right;\">\n",
       "      <th></th>\n",
       "      <th>Age</th>\n",
       "      <th>WorkClass</th>\n",
       "      <th>Fnlwgt</th>\n",
       "      <th>Education</th>\n",
       "      <th>Education_Num</th>\n",
       "      <th>Marital_Status</th>\n",
       "      <th>Occupation</th>\n",
       "      <th>Relationship</th>\n",
       "      <th>Race</th>\n",
       "      <th>Gender</th>\n",
       "      <th>Capital_Gain</th>\n",
       "      <th>Capital_Loss</th>\n",
       "      <th>Hours_Per_Week</th>\n",
       "      <th>Native_Country</th>\n",
       "      <th>Income_Bracket</th>\n",
       "    </tr>\n",
       "  </thead>\n",
       "  <tbody>\n",
       "    <tr>\n",
       "      <th>5224</th>\n",
       "      <td>51</td>\n",
       "      <td>Private</td>\n",
       "      <td>193720</td>\n",
       "      <td>Bachelors</td>\n",
       "      <td>13</td>\n",
       "      <td>Marri</td>\n",
       "      <td>NaN</td>\n",
       "      <td>NaN</td>\n",
       "      <td>NaN</td>\n",
       "      <td>NaN</td>\n",
       "      <td>NaN</td>\n",
       "      <td>NaN</td>\n",
       "      <td>NaN</td>\n",
       "      <td>NaN</td>\n",
       "      <td>NaN</td>\n",
       "    </tr>\n",
       "  </tbody>\n",
       "</table>\n",
       "</div>"
      ],
      "text/plain": [
       "      Age WorkClass  Fnlwgt   Education  Education_Num Marital_Status  \\\n",
       "5224   51   Private  193720   Bachelors             13          Marri   \n",
       "\n",
       "     Occupation Relationship Race Gender  Capital_Gain  Capital_Loss  \\\n",
       "5224        NaN          NaN  NaN    NaN           NaN           NaN   \n",
       "\n",
       "      Hours_Per_Week Native_Country Income_Bracket  \n",
       "5224             NaN            NaN            NaN  "
      ]
     },
     "execution_count": 11,
     "metadata": {},
     "output_type": "execute_result"
    }
   ],
   "source": [
    "income_df[income_df['Occupation'].isnull()]"
   ]
  },
  {
   "cell_type": "code",
   "execution_count": 12,
   "id": "a5d82d6e",
   "metadata": {},
   "outputs": [
    {
     "data": {
      "text/plain": [
       " Prof-specialty       655\n",
       " Craft-repair         650\n",
       " Exec-managerial      644\n",
       " Sales                622\n",
       " Adm-clerical         598\n",
       " Other-service        516\n",
       " ?                    341\n",
       " Machine-op-inspct    326\n",
       " Transport-moving     259\n",
       " Handlers-cleaners    202\n",
       " Farming-fishing      153\n",
       " Tech-support         142\n",
       " Protective-serv       95\n",
       " Priv-house-serv       19\n",
       " Armed-Forces           2\n",
       "Name: Occupation, dtype: int64"
      ]
     },
     "execution_count": 12,
     "metadata": {},
     "output_type": "execute_result"
    }
   ],
   "source": [
    "income_df['Occupation'].value_counts()"
   ]
  },
  {
   "cell_type": "code",
   "execution_count": 13,
   "id": "6bc38dd6",
   "metadata": {},
   "outputs": [],
   "source": [
    "income_df['Occupation']=income_df['Occupation'].fillna('Prof-specialty')"
   ]
  },
  {
   "cell_type": "code",
   "execution_count": 14,
   "id": "74075250",
   "metadata": {},
   "outputs": [
    {
     "data": {
      "text/html": [
       "<div>\n",
       "<style scoped>\n",
       "    .dataframe tbody tr th:only-of-type {\n",
       "        vertical-align: middle;\n",
       "    }\n",
       "\n",
       "    .dataframe tbody tr th {\n",
       "        vertical-align: top;\n",
       "    }\n",
       "\n",
       "    .dataframe thead th {\n",
       "        text-align: right;\n",
       "    }\n",
       "</style>\n",
       "<table border=\"1\" class=\"dataframe\">\n",
       "  <thead>\n",
       "    <tr style=\"text-align: right;\">\n",
       "      <th></th>\n",
       "      <th>Age</th>\n",
       "      <th>WorkClass</th>\n",
       "      <th>Fnlwgt</th>\n",
       "      <th>Education</th>\n",
       "      <th>Education_Num</th>\n",
       "      <th>Marital_Status</th>\n",
       "      <th>Occupation</th>\n",
       "      <th>Relationship</th>\n",
       "      <th>Race</th>\n",
       "      <th>Gender</th>\n",
       "      <th>Capital_Gain</th>\n",
       "      <th>Capital_Loss</th>\n",
       "      <th>Hours_Per_Week</th>\n",
       "      <th>Native_Country</th>\n",
       "      <th>Income_Bracket</th>\n",
       "    </tr>\n",
       "  </thead>\n",
       "  <tbody>\n",
       "    <tr>\n",
       "      <th>5224</th>\n",
       "      <td>51</td>\n",
       "      <td>Private</td>\n",
       "      <td>193720</td>\n",
       "      <td>Bachelors</td>\n",
       "      <td>13</td>\n",
       "      <td>Marri</td>\n",
       "      <td>Prof-specialty</td>\n",
       "      <td>NaN</td>\n",
       "      <td>NaN</td>\n",
       "      <td>NaN</td>\n",
       "      <td>NaN</td>\n",
       "      <td>NaN</td>\n",
       "      <td>NaN</td>\n",
       "      <td>NaN</td>\n",
       "      <td>NaN</td>\n",
       "    </tr>\n",
       "  </tbody>\n",
       "</table>\n",
       "</div>"
      ],
      "text/plain": [
       "      Age WorkClass  Fnlwgt   Education  Education_Num Marital_Status  \\\n",
       "5224   51   Private  193720   Bachelors             13          Marri   \n",
       "\n",
       "          Occupation Relationship Race Gender  Capital_Gain  Capital_Loss  \\\n",
       "5224  Prof-specialty          NaN  NaN    NaN           NaN           NaN   \n",
       "\n",
       "      Hours_Per_Week Native_Country Income_Bracket  \n",
       "5224             NaN            NaN            NaN  "
      ]
     },
     "execution_count": 14,
     "metadata": {},
     "output_type": "execute_result"
    }
   ],
   "source": [
    "income_df[income_df['Relationship'].isnull()]"
   ]
  },
  {
   "cell_type": "code",
   "execution_count": 15,
   "id": "6559e710",
   "metadata": {},
   "outputs": [
    {
     "data": {
      "text/plain": [
       " Husband           2094\n",
       " Not-in-family     1349\n",
       " Own-child          802\n",
       " Unmarried          561\n",
       " Wife               262\n",
       " Other-relative     156\n",
       "Name: Relationship, dtype: int64"
      ]
     },
     "execution_count": 15,
     "metadata": {},
     "output_type": "execute_result"
    }
   ],
   "source": [
    "income_df['Relationship'].value_counts()"
   ]
  },
  {
   "cell_type": "code",
   "execution_count": 16,
   "id": "6e58d5ea",
   "metadata": {},
   "outputs": [],
   "source": [
    "income_df['Relationship']=income_df['Relationship'].fillna('Husband')"
   ]
  },
  {
   "cell_type": "code",
   "execution_count": 17,
   "id": "fc0a8784",
   "metadata": {},
   "outputs": [
    {
     "data": {
      "text/html": [
       "<div>\n",
       "<style scoped>\n",
       "    .dataframe tbody tr th:only-of-type {\n",
       "        vertical-align: middle;\n",
       "    }\n",
       "\n",
       "    .dataframe tbody tr th {\n",
       "        vertical-align: top;\n",
       "    }\n",
       "\n",
       "    .dataframe thead th {\n",
       "        text-align: right;\n",
       "    }\n",
       "</style>\n",
       "<table border=\"1\" class=\"dataframe\">\n",
       "  <thead>\n",
       "    <tr style=\"text-align: right;\">\n",
       "      <th></th>\n",
       "      <th>Age</th>\n",
       "      <th>WorkClass</th>\n",
       "      <th>Fnlwgt</th>\n",
       "      <th>Education</th>\n",
       "      <th>Education_Num</th>\n",
       "      <th>Marital_Status</th>\n",
       "      <th>Occupation</th>\n",
       "      <th>Relationship</th>\n",
       "      <th>Race</th>\n",
       "      <th>Gender</th>\n",
       "      <th>Capital_Gain</th>\n",
       "      <th>Capital_Loss</th>\n",
       "      <th>Hours_Per_Week</th>\n",
       "      <th>Native_Country</th>\n",
       "      <th>Income_Bracket</th>\n",
       "    </tr>\n",
       "  </thead>\n",
       "  <tbody>\n",
       "    <tr>\n",
       "      <th>5224</th>\n",
       "      <td>51</td>\n",
       "      <td>Private</td>\n",
       "      <td>193720</td>\n",
       "      <td>Bachelors</td>\n",
       "      <td>13</td>\n",
       "      <td>Marri</td>\n",
       "      <td>Prof-specialty</td>\n",
       "      <td>Husband</td>\n",
       "      <td>NaN</td>\n",
       "      <td>NaN</td>\n",
       "      <td>NaN</td>\n",
       "      <td>NaN</td>\n",
       "      <td>NaN</td>\n",
       "      <td>NaN</td>\n",
       "      <td>NaN</td>\n",
       "    </tr>\n",
       "  </tbody>\n",
       "</table>\n",
       "</div>"
      ],
      "text/plain": [
       "      Age WorkClass  Fnlwgt   Education  Education_Num Marital_Status  \\\n",
       "5224   51   Private  193720   Bachelors             13          Marri   \n",
       "\n",
       "          Occupation Relationship Race Gender  Capital_Gain  Capital_Loss  \\\n",
       "5224  Prof-specialty      Husband  NaN    NaN           NaN           NaN   \n",
       "\n",
       "      Hours_Per_Week Native_Country Income_Bracket  \n",
       "5224             NaN            NaN            NaN  "
      ]
     },
     "execution_count": 17,
     "metadata": {},
     "output_type": "execute_result"
    }
   ],
   "source": [
    "income_df[income_df['Race'].isnull()]"
   ]
  },
  {
   "cell_type": "code",
   "execution_count": 18,
   "id": "da6df4a9",
   "metadata": {},
   "outputs": [
    {
     "data": {
      "text/plain": [
       " White                 4440\n",
       " Black                  539\n",
       " Asian-Pac-Islander     160\n",
       " Amer-Indian-Eskimo      52\n",
       " Other                   33\n",
       "Name: Race, dtype: int64"
      ]
     },
     "execution_count": 18,
     "metadata": {},
     "output_type": "execute_result"
    }
   ],
   "source": [
    "income_df['Race'].value_counts()"
   ]
  },
  {
   "cell_type": "code",
   "execution_count": 19,
   "id": "46c49114",
   "metadata": {},
   "outputs": [],
   "source": [
    "income_df['Race']=income_df['Race'].fillna('White')"
   ]
  },
  {
   "cell_type": "code",
   "execution_count": 20,
   "id": "595d039e",
   "metadata": {},
   "outputs": [
    {
     "data": {
      "text/html": [
       "<div>\n",
       "<style scoped>\n",
       "    .dataframe tbody tr th:only-of-type {\n",
       "        vertical-align: middle;\n",
       "    }\n",
       "\n",
       "    .dataframe tbody tr th {\n",
       "        vertical-align: top;\n",
       "    }\n",
       "\n",
       "    .dataframe thead th {\n",
       "        text-align: right;\n",
       "    }\n",
       "</style>\n",
       "<table border=\"1\" class=\"dataframe\">\n",
       "  <thead>\n",
       "    <tr style=\"text-align: right;\">\n",
       "      <th></th>\n",
       "      <th>Age</th>\n",
       "      <th>WorkClass</th>\n",
       "      <th>Fnlwgt</th>\n",
       "      <th>Education</th>\n",
       "      <th>Education_Num</th>\n",
       "      <th>Marital_Status</th>\n",
       "      <th>Occupation</th>\n",
       "      <th>Relationship</th>\n",
       "      <th>Race</th>\n",
       "      <th>Gender</th>\n",
       "      <th>Capital_Gain</th>\n",
       "      <th>Capital_Loss</th>\n",
       "      <th>Hours_Per_Week</th>\n",
       "      <th>Native_Country</th>\n",
       "      <th>Income_Bracket</th>\n",
       "    </tr>\n",
       "  </thead>\n",
       "  <tbody>\n",
       "    <tr>\n",
       "      <th>5224</th>\n",
       "      <td>51</td>\n",
       "      <td>Private</td>\n",
       "      <td>193720</td>\n",
       "      <td>Bachelors</td>\n",
       "      <td>13</td>\n",
       "      <td>Marri</td>\n",
       "      <td>Prof-specialty</td>\n",
       "      <td>Husband</td>\n",
       "      <td>White</td>\n",
       "      <td>NaN</td>\n",
       "      <td>NaN</td>\n",
       "      <td>NaN</td>\n",
       "      <td>NaN</td>\n",
       "      <td>NaN</td>\n",
       "      <td>NaN</td>\n",
       "    </tr>\n",
       "  </tbody>\n",
       "</table>\n",
       "</div>"
      ],
      "text/plain": [
       "      Age WorkClass  Fnlwgt   Education  Education_Num Marital_Status  \\\n",
       "5224   51   Private  193720   Bachelors             13          Marri   \n",
       "\n",
       "          Occupation Relationship   Race Gender  Capital_Gain  Capital_Loss  \\\n",
       "5224  Prof-specialty      Husband  White    NaN           NaN           NaN   \n",
       "\n",
       "      Hours_Per_Week Native_Country Income_Bracket  \n",
       "5224             NaN            NaN            NaN  "
      ]
     },
     "execution_count": 20,
     "metadata": {},
     "output_type": "execute_result"
    }
   ],
   "source": [
    "income_df[income_df['Gender'].isnull()]"
   ]
  },
  {
   "cell_type": "code",
   "execution_count": 21,
   "id": "9226b5ee",
   "metadata": {},
   "outputs": [
    {
     "data": {
      "text/plain": [
       " Male      3523\n",
       " Female    1701\n",
       "Name: Gender, dtype: int64"
      ]
     },
     "execution_count": 21,
     "metadata": {},
     "output_type": "execute_result"
    }
   ],
   "source": [
    "income_df['Gender'].value_counts()"
   ]
  },
  {
   "cell_type": "code",
   "execution_count": 22,
   "id": "d2a8c29e",
   "metadata": {},
   "outputs": [],
   "source": [
    "income_df['Gender']=income_df['Gender'].fillna('Male')"
   ]
  },
  {
   "cell_type": "code",
   "execution_count": 23,
   "id": "d344501d",
   "metadata": {},
   "outputs": [
    {
     "data": {
      "text/html": [
       "<div>\n",
       "<style scoped>\n",
       "    .dataframe tbody tr th:only-of-type {\n",
       "        vertical-align: middle;\n",
       "    }\n",
       "\n",
       "    .dataframe tbody tr th {\n",
       "        vertical-align: top;\n",
       "    }\n",
       "\n",
       "    .dataframe thead th {\n",
       "        text-align: right;\n",
       "    }\n",
       "</style>\n",
       "<table border=\"1\" class=\"dataframe\">\n",
       "  <thead>\n",
       "    <tr style=\"text-align: right;\">\n",
       "      <th></th>\n",
       "      <th>Age</th>\n",
       "      <th>WorkClass</th>\n",
       "      <th>Fnlwgt</th>\n",
       "      <th>Education</th>\n",
       "      <th>Education_Num</th>\n",
       "      <th>Marital_Status</th>\n",
       "      <th>Occupation</th>\n",
       "      <th>Relationship</th>\n",
       "      <th>Race</th>\n",
       "      <th>Gender</th>\n",
       "      <th>Capital_Gain</th>\n",
       "      <th>Capital_Loss</th>\n",
       "      <th>Hours_Per_Week</th>\n",
       "      <th>Native_Country</th>\n",
       "      <th>Income_Bracket</th>\n",
       "    </tr>\n",
       "  </thead>\n",
       "  <tbody>\n",
       "    <tr>\n",
       "      <th>5224</th>\n",
       "      <td>51</td>\n",
       "      <td>Private</td>\n",
       "      <td>193720</td>\n",
       "      <td>Bachelors</td>\n",
       "      <td>13</td>\n",
       "      <td>Marri</td>\n",
       "      <td>Prof-specialty</td>\n",
       "      <td>Husband</td>\n",
       "      <td>White</td>\n",
       "      <td>Male</td>\n",
       "      <td>NaN</td>\n",
       "      <td>NaN</td>\n",
       "      <td>NaN</td>\n",
       "      <td>NaN</td>\n",
       "      <td>NaN</td>\n",
       "    </tr>\n",
       "  </tbody>\n",
       "</table>\n",
       "</div>"
      ],
      "text/plain": [
       "      Age WorkClass  Fnlwgt   Education  Education_Num Marital_Status  \\\n",
       "5224   51   Private  193720   Bachelors             13          Marri   \n",
       "\n",
       "          Occupation Relationship   Race Gender  Capital_Gain  Capital_Loss  \\\n",
       "5224  Prof-specialty      Husband  White   Male           NaN           NaN   \n",
       "\n",
       "      Hours_Per_Week Native_Country Income_Bracket  \n",
       "5224             NaN            NaN            NaN  "
      ]
     },
     "execution_count": 23,
     "metadata": {},
     "output_type": "execute_result"
    }
   ],
   "source": [
    "income_df[income_df['Native_Country'].isnull()]"
   ]
  },
  {
   "cell_type": "code",
   "execution_count": 24,
   "id": "e9475a1c",
   "metadata": {},
   "outputs": [
    {
     "data": {
      "text/plain": [
       " United-States                 4667\n",
       " Mexico                         108\n",
       " ?                              101\n",
       " Canada                          31\n",
       " Germany                         23\n",
       " Philippines                     22\n",
       " Puerto-Rico                     17\n",
       " Jamaica                         16\n",
       " El-Salvador                     16\n",
       " England                         16\n",
       " Cuba                            16\n",
       " China                           15\n",
       " Dominican-Republic              13\n",
       " Taiwan                          12\n",
       " Italy                           12\n",
       " Iran                            12\n",
       " India                           12\n",
       " Poland                          11\n",
       " Vietnam                         10\n",
       " Japan                           10\n",
       " Guatemala                       10\n",
       " South                            9\n",
       " Portugal                         7\n",
       " Greece                           6\n",
       " Haiti                            6\n",
       " Columbia                         5\n",
       " Nicaragua                        5\n",
       " Trinadad&Tobago                  4\n",
       " Ireland                          4\n",
       " Ecuador                          4\n",
       " Cambodia                         4\n",
       " France                           3\n",
       " Peru                             3\n",
       " Outlying-US(Guam-USVI-etc)       3\n",
       " Honduras                         3\n",
       " Yugoslavia                       2\n",
       " Thailand                         2\n",
       " Laos                             2\n",
       " Scotland                         1\n",
       " Hong                             1\n",
       "Name: Native_Country, dtype: int64"
      ]
     },
     "execution_count": 24,
     "metadata": {},
     "output_type": "execute_result"
    }
   ],
   "source": [
    "income_df['Native_Country'].value_counts()"
   ]
  },
  {
   "cell_type": "code",
   "execution_count": 25,
   "id": "9dac89e8",
   "metadata": {},
   "outputs": [],
   "source": [
    "income_df['Native_Country']=income_df['Native_Country'].fillna('United-States')"
   ]
  },
  {
   "cell_type": "code",
   "execution_count": 26,
   "id": "64f6a0c5",
   "metadata": {},
   "outputs": [
    {
     "data": {
      "text/html": [
       "<div>\n",
       "<style scoped>\n",
       "    .dataframe tbody tr th:only-of-type {\n",
       "        vertical-align: middle;\n",
       "    }\n",
       "\n",
       "    .dataframe tbody tr th {\n",
       "        vertical-align: top;\n",
       "    }\n",
       "\n",
       "    .dataframe thead th {\n",
       "        text-align: right;\n",
       "    }\n",
       "</style>\n",
       "<table border=\"1\" class=\"dataframe\">\n",
       "  <thead>\n",
       "    <tr style=\"text-align: right;\">\n",
       "      <th></th>\n",
       "      <th>Age</th>\n",
       "      <th>WorkClass</th>\n",
       "      <th>Fnlwgt</th>\n",
       "      <th>Education</th>\n",
       "      <th>Education_Num</th>\n",
       "      <th>Marital_Status</th>\n",
       "      <th>Occupation</th>\n",
       "      <th>Relationship</th>\n",
       "      <th>Race</th>\n",
       "      <th>Gender</th>\n",
       "      <th>Capital_Gain</th>\n",
       "      <th>Capital_Loss</th>\n",
       "      <th>Hours_Per_Week</th>\n",
       "      <th>Native_Country</th>\n",
       "      <th>Income_Bracket</th>\n",
       "    </tr>\n",
       "  </thead>\n",
       "  <tbody>\n",
       "    <tr>\n",
       "      <th>5224</th>\n",
       "      <td>51</td>\n",
       "      <td>Private</td>\n",
       "      <td>193720</td>\n",
       "      <td>Bachelors</td>\n",
       "      <td>13</td>\n",
       "      <td>Marri</td>\n",
       "      <td>Prof-specialty</td>\n",
       "      <td>Husband</td>\n",
       "      <td>White</td>\n",
       "      <td>Male</td>\n",
       "      <td>NaN</td>\n",
       "      <td>NaN</td>\n",
       "      <td>NaN</td>\n",
       "      <td>United-States</td>\n",
       "      <td>NaN</td>\n",
       "    </tr>\n",
       "  </tbody>\n",
       "</table>\n",
       "</div>"
      ],
      "text/plain": [
       "      Age WorkClass  Fnlwgt   Education  Education_Num Marital_Status  \\\n",
       "5224   51   Private  193720   Bachelors             13          Marri   \n",
       "\n",
       "          Occupation Relationship   Race Gender  Capital_Gain  Capital_Loss  \\\n",
       "5224  Prof-specialty      Husband  White   Male           NaN           NaN   \n",
       "\n",
       "      Hours_Per_Week Native_Country Income_Bracket  \n",
       "5224             NaN  United-States            NaN  "
      ]
     },
     "execution_count": 26,
     "metadata": {},
     "output_type": "execute_result"
    }
   ],
   "source": [
    "income_df[income_df['Income_Bracket'].isnull()]"
   ]
  },
  {
   "cell_type": "code",
   "execution_count": 27,
   "id": "2d591fad",
   "metadata": {},
   "outputs": [
    {
     "data": {
      "text/plain": [
       " <=50K    3951\n",
       " >50K     1273\n",
       "Name: Income_Bracket, dtype: int64"
      ]
     },
     "execution_count": 27,
     "metadata": {},
     "output_type": "execute_result"
    }
   ],
   "source": [
    "income_df['Income_Bracket'].value_counts()"
   ]
  },
  {
   "cell_type": "code",
   "execution_count": 28,
   "id": "611dc8dd",
   "metadata": {},
   "outputs": [],
   "source": [
    "income_df['Income_Bracket']=income_df['Income_Bracket'].fillna('<=50K')\n"
   ]
  },
  {
   "cell_type": "code",
   "execution_count": 29,
   "id": "13bf4ad1",
   "metadata": {},
   "outputs": [
    {
     "data": {
      "text/html": [
       "<div>\n",
       "<style scoped>\n",
       "    .dataframe tbody tr th:only-of-type {\n",
       "        vertical-align: middle;\n",
       "    }\n",
       "\n",
       "    .dataframe tbody tr th {\n",
       "        vertical-align: top;\n",
       "    }\n",
       "\n",
       "    .dataframe thead th {\n",
       "        text-align: right;\n",
       "    }\n",
       "</style>\n",
       "<table border=\"1\" class=\"dataframe\">\n",
       "  <thead>\n",
       "    <tr style=\"text-align: right;\">\n",
       "      <th></th>\n",
       "      <th>Age</th>\n",
       "      <th>WorkClass</th>\n",
       "      <th>Fnlwgt</th>\n",
       "      <th>Education</th>\n",
       "      <th>Education_Num</th>\n",
       "      <th>Marital_Status</th>\n",
       "      <th>Occupation</th>\n",
       "      <th>Relationship</th>\n",
       "      <th>Race</th>\n",
       "      <th>Gender</th>\n",
       "      <th>Capital_Gain</th>\n",
       "      <th>Capital_Loss</th>\n",
       "      <th>Hours_Per_Week</th>\n",
       "      <th>Native_Country</th>\n",
       "      <th>Income_Bracket</th>\n",
       "    </tr>\n",
       "  </thead>\n",
       "  <tbody>\n",
       "    <tr>\n",
       "      <th>5224</th>\n",
       "      <td>51</td>\n",
       "      <td>Private</td>\n",
       "      <td>193720</td>\n",
       "      <td>Bachelors</td>\n",
       "      <td>13</td>\n",
       "      <td>Marri</td>\n",
       "      <td>Prof-specialty</td>\n",
       "      <td>Husband</td>\n",
       "      <td>White</td>\n",
       "      <td>Male</td>\n",
       "      <td>NaN</td>\n",
       "      <td>NaN</td>\n",
       "      <td>NaN</td>\n",
       "      <td>United-States</td>\n",
       "      <td>&lt;=50K</td>\n",
       "    </tr>\n",
       "  </tbody>\n",
       "</table>\n",
       "</div>"
      ],
      "text/plain": [
       "      Age WorkClass  Fnlwgt   Education  Education_Num Marital_Status  \\\n",
       "5224   51   Private  193720   Bachelors             13          Marri   \n",
       "\n",
       "          Occupation Relationship   Race Gender  Capital_Gain  Capital_Loss  \\\n",
       "5224  Prof-specialty      Husband  White   Male           NaN           NaN   \n",
       "\n",
       "      Hours_Per_Week Native_Country Income_Bracket  \n",
       "5224             NaN  United-States          <=50K  "
      ]
     },
     "execution_count": 29,
     "metadata": {},
     "output_type": "execute_result"
    }
   ],
   "source": [
    "income_df[income_df['Capital_Loss'].isnull()]"
   ]
  },
  {
   "cell_type": "code",
   "execution_count": 30,
   "id": "f3bb1b17",
   "metadata": {},
   "outputs": [
    {
     "data": {
      "text/plain": [
       "0.0       4957\n",
       "1902.0      42\n",
       "1977.0      32\n",
       "1887.0      24\n",
       "2415.0      11\n",
       "1848.0       9\n",
       "1485.0       9\n",
       "1672.0       8\n",
       "1590.0       8\n",
       "1741.0       7\n",
       "1740.0       7\n",
       "1719.0       6\n",
       "1564.0       6\n",
       "1876.0       6\n",
       "1628.0       6\n",
       "1762.0       6\n",
       "1980.0       5\n",
       "1669.0       5\n",
       "2392.0       4\n",
       "2339.0       4\n",
       "1408.0       4\n",
       "2002.0       4\n",
       "2377.0       3\n",
       "2179.0       3\n",
       "1579.0       3\n",
       "2001.0       3\n",
       "1340.0       3\n",
       "2258.0       3\n",
       "625.0        2\n",
       "1602.0       2\n",
       "2051.0       2\n",
       "1504.0       2\n",
       "2352.0       2\n",
       "1721.0       2\n",
       "1380.0       2\n",
       "2206.0       2\n",
       "1816.0       2\n",
       "880.0        1\n",
       "1668.0       1\n",
       "2444.0       1\n",
       "1539.0       1\n",
       "213.0        1\n",
       "1092.0       1\n",
       "2238.0       1\n",
       "1138.0       1\n",
       "653.0        1\n",
       "1726.0       1\n",
       "2205.0       1\n",
       "2174.0       1\n",
       "2547.0       1\n",
       "419.0        1\n",
       "1651.0       1\n",
       "2042.0       1\n",
       "1573.0       1\n",
       "1594.0       1\n",
       "Name: Capital_Loss, dtype: int64"
      ]
     },
     "execution_count": 30,
     "metadata": {},
     "output_type": "execute_result"
    }
   ],
   "source": [
    "income_df['Capital_Loss'].value_counts()"
   ]
  },
  {
   "cell_type": "code",
   "execution_count": 31,
   "id": "bbff42f3",
   "metadata": {},
   "outputs": [],
   "source": [
    "income_df['Capital_Loss']=income_df['Capital_Loss'].fillna(0.0)"
   ]
  },
  {
   "cell_type": "code",
   "execution_count": 32,
   "id": "882bbea4",
   "metadata": {},
   "outputs": [
    {
     "data": {
      "text/html": [
       "<div>\n",
       "<style scoped>\n",
       "    .dataframe tbody tr th:only-of-type {\n",
       "        vertical-align: middle;\n",
       "    }\n",
       "\n",
       "    .dataframe tbody tr th {\n",
       "        vertical-align: top;\n",
       "    }\n",
       "\n",
       "    .dataframe thead th {\n",
       "        text-align: right;\n",
       "    }\n",
       "</style>\n",
       "<table border=\"1\" class=\"dataframe\">\n",
       "  <thead>\n",
       "    <tr style=\"text-align: right;\">\n",
       "      <th></th>\n",
       "      <th>Age</th>\n",
       "      <th>WorkClass</th>\n",
       "      <th>Fnlwgt</th>\n",
       "      <th>Education</th>\n",
       "      <th>Education_Num</th>\n",
       "      <th>Marital_Status</th>\n",
       "      <th>Occupation</th>\n",
       "      <th>Relationship</th>\n",
       "      <th>Race</th>\n",
       "      <th>Gender</th>\n",
       "      <th>Capital_Gain</th>\n",
       "      <th>Capital_Loss</th>\n",
       "      <th>Hours_Per_Week</th>\n",
       "      <th>Native_Country</th>\n",
       "      <th>Income_Bracket</th>\n",
       "    </tr>\n",
       "  </thead>\n",
       "  <tbody>\n",
       "    <tr>\n",
       "      <th>5224</th>\n",
       "      <td>51</td>\n",
       "      <td>Private</td>\n",
       "      <td>193720</td>\n",
       "      <td>Bachelors</td>\n",
       "      <td>13</td>\n",
       "      <td>Marri</td>\n",
       "      <td>Prof-specialty</td>\n",
       "      <td>Husband</td>\n",
       "      <td>White</td>\n",
       "      <td>Male</td>\n",
       "      <td>NaN</td>\n",
       "      <td>0.0</td>\n",
       "      <td>NaN</td>\n",
       "      <td>United-States</td>\n",
       "      <td>&lt;=50K</td>\n",
       "    </tr>\n",
       "  </tbody>\n",
       "</table>\n",
       "</div>"
      ],
      "text/plain": [
       "      Age WorkClass  Fnlwgt   Education  Education_Num Marital_Status  \\\n",
       "5224   51   Private  193720   Bachelors             13          Marri   \n",
       "\n",
       "          Occupation Relationship   Race Gender  Capital_Gain  Capital_Loss  \\\n",
       "5224  Prof-specialty      Husband  White   Male           NaN           0.0   \n",
       "\n",
       "      Hours_Per_Week Native_Country Income_Bracket  \n",
       "5224             NaN  United-States          <=50K  "
      ]
     },
     "execution_count": 32,
     "metadata": {},
     "output_type": "execute_result"
    }
   ],
   "source": [
    "income_df[income_df['Capital_Gain'].isnull()]"
   ]
  },
  {
   "cell_type": "code",
   "execution_count": 33,
   "id": "3d41081d",
   "metadata": {},
   "outputs": [
    {
     "data": {
      "text/plain": [
       "0.0        4782\n",
       "15024.0      66\n",
       "7688.0       50\n",
       "7298.0       39\n",
       "99999.0      24\n",
       "           ... \n",
       "1111.0        1\n",
       "401.0         1\n",
       "1471.0        1\n",
       "2977.0        1\n",
       "3418.0        1\n",
       "Name: Capital_Gain, Length: 84, dtype: int64"
      ]
     },
     "execution_count": 33,
     "metadata": {},
     "output_type": "execute_result"
    }
   ],
   "source": [
    "income_df['Capital_Gain'].value_counts()"
   ]
  },
  {
   "cell_type": "code",
   "execution_count": 34,
   "id": "30a9c1d5",
   "metadata": {},
   "outputs": [],
   "source": [
    "income_df['Capital_Gain']=income_df['Capital_Gain'].fillna(0.0)"
   ]
  },
  {
   "cell_type": "code",
   "execution_count": 35,
   "id": "9f61c190",
   "metadata": {},
   "outputs": [
    {
     "data": {
      "text/html": [
       "<div>\n",
       "<style scoped>\n",
       "    .dataframe tbody tr th:only-of-type {\n",
       "        vertical-align: middle;\n",
       "    }\n",
       "\n",
       "    .dataframe tbody tr th {\n",
       "        vertical-align: top;\n",
       "    }\n",
       "\n",
       "    .dataframe thead th {\n",
       "        text-align: right;\n",
       "    }\n",
       "</style>\n",
       "<table border=\"1\" class=\"dataframe\">\n",
       "  <thead>\n",
       "    <tr style=\"text-align: right;\">\n",
       "      <th></th>\n",
       "      <th>Age</th>\n",
       "      <th>WorkClass</th>\n",
       "      <th>Fnlwgt</th>\n",
       "      <th>Education</th>\n",
       "      <th>Education_Num</th>\n",
       "      <th>Marital_Status</th>\n",
       "      <th>Occupation</th>\n",
       "      <th>Relationship</th>\n",
       "      <th>Race</th>\n",
       "      <th>Gender</th>\n",
       "      <th>Capital_Gain</th>\n",
       "      <th>Capital_Loss</th>\n",
       "      <th>Hours_Per_Week</th>\n",
       "      <th>Native_Country</th>\n",
       "      <th>Income_Bracket</th>\n",
       "    </tr>\n",
       "  </thead>\n",
       "  <tbody>\n",
       "    <tr>\n",
       "      <th>5224</th>\n",
       "      <td>51</td>\n",
       "      <td>Private</td>\n",
       "      <td>193720</td>\n",
       "      <td>Bachelors</td>\n",
       "      <td>13</td>\n",
       "      <td>Marri</td>\n",
       "      <td>Prof-specialty</td>\n",
       "      <td>Husband</td>\n",
       "      <td>White</td>\n",
       "      <td>Male</td>\n",
       "      <td>0.0</td>\n",
       "      <td>0.0</td>\n",
       "      <td>NaN</td>\n",
       "      <td>United-States</td>\n",
       "      <td>&lt;=50K</td>\n",
       "    </tr>\n",
       "  </tbody>\n",
       "</table>\n",
       "</div>"
      ],
      "text/plain": [
       "      Age WorkClass  Fnlwgt   Education  Education_Num Marital_Status  \\\n",
       "5224   51   Private  193720   Bachelors             13          Marri   \n",
       "\n",
       "          Occupation Relationship   Race Gender  Capital_Gain  Capital_Loss  \\\n",
       "5224  Prof-specialty      Husband  White   Male           0.0           0.0   \n",
       "\n",
       "      Hours_Per_Week Native_Country Income_Bracket  \n",
       "5224             NaN  United-States          <=50K  "
      ]
     },
     "execution_count": 35,
     "metadata": {},
     "output_type": "execute_result"
    }
   ],
   "source": [
    "income_df[income_df['Hours_Per_Week'].isnull()]"
   ]
  },
  {
   "cell_type": "code",
   "execution_count": 36,
   "id": "04597312",
   "metadata": {},
   "outputs": [
    {
     "data": {
      "text/plain": [
       "40.0    2449\n",
       "50.0     474\n",
       "45.0     288\n",
       "60.0     255\n",
       "35.0     212\n",
       "        ... \n",
       "19.0       1\n",
       "68.0       1\n",
       "31.0       1\n",
       "51.0       1\n",
       "77.0       1\n",
       "Name: Hours_Per_Week, Length: 74, dtype: int64"
      ]
     },
     "execution_count": 36,
     "metadata": {},
     "output_type": "execute_result"
    }
   ],
   "source": [
    "income_df['Hours_Per_Week'].value_counts()"
   ]
  },
  {
   "cell_type": "code",
   "execution_count": 37,
   "id": "898955f8",
   "metadata": {},
   "outputs": [],
   "source": [
    "income_df['Hours_Per_Week']=income_df['Hours_Per_Week'].fillna(40.0)"
   ]
  },
  {
   "cell_type": "code",
   "execution_count": 38,
   "id": "e60914e2",
   "metadata": {
    "scrolled": true
   },
   "outputs": [
    {
     "data": {
      "text/plain": [
       "Age               0\n",
       "WorkClass         0\n",
       "Fnlwgt            0\n",
       "Education         0\n",
       "Education_Num     0\n",
       "Marital_Status    0\n",
       "Occupation        0\n",
       "Relationship      0\n",
       "Race              0\n",
       "Gender            0\n",
       "Capital_Gain      0\n",
       "Capital_Loss      0\n",
       "Hours_Per_Week    0\n",
       "Native_Country    0\n",
       "Income_Bracket    0\n",
       "dtype: int64"
      ]
     },
     "execution_count": 38,
     "metadata": {},
     "output_type": "execute_result"
    }
   ],
   "source": [
    "income_df.isnull().sum()"
   ]
  },
  {
   "cell_type": "code",
   "execution_count": 39,
   "id": "a20f1977",
   "metadata": {},
   "outputs": [
    {
     "data": {
      "text/html": [
       "<div>\n",
       "<style scoped>\n",
       "    .dataframe tbody tr th:only-of-type {\n",
       "        vertical-align: middle;\n",
       "    }\n",
       "\n",
       "    .dataframe tbody tr th {\n",
       "        vertical-align: top;\n",
       "    }\n",
       "\n",
       "    .dataframe thead th {\n",
       "        text-align: right;\n",
       "    }\n",
       "</style>\n",
       "<table border=\"1\" class=\"dataframe\">\n",
       "  <thead>\n",
       "    <tr style=\"text-align: right;\">\n",
       "      <th></th>\n",
       "      <th>Age</th>\n",
       "      <th>WorkClass</th>\n",
       "      <th>Fnlwgt</th>\n",
       "      <th>Education</th>\n",
       "      <th>Education_Num</th>\n",
       "      <th>Marital_Status</th>\n",
       "      <th>Occupation</th>\n",
       "      <th>Relationship</th>\n",
       "      <th>Race</th>\n",
       "      <th>Gender</th>\n",
       "      <th>Capital_Gain</th>\n",
       "      <th>Capital_Loss</th>\n",
       "      <th>Hours_Per_Week</th>\n",
       "      <th>Native_Country</th>\n",
       "      <th>Income_Bracket</th>\n",
       "    </tr>\n",
       "  </thead>\n",
       "  <tbody>\n",
       "    <tr>\n",
       "      <th>0</th>\n",
       "      <td>39</td>\n",
       "      <td>State-gov</td>\n",
       "      <td>77516</td>\n",
       "      <td>Bachelors</td>\n",
       "      <td>13</td>\n",
       "      <td>Never-married</td>\n",
       "      <td>Adm-clerical</td>\n",
       "      <td>Not-in-family</td>\n",
       "      <td>White</td>\n",
       "      <td>Male</td>\n",
       "      <td>2174.0</td>\n",
       "      <td>0.0</td>\n",
       "      <td>40.0</td>\n",
       "      <td>United-States</td>\n",
       "      <td>&lt;=50K</td>\n",
       "    </tr>\n",
       "    <tr>\n",
       "      <th>1</th>\n",
       "      <td>50</td>\n",
       "      <td>Self-emp-not-inc</td>\n",
       "      <td>83311</td>\n",
       "      <td>Bachelors</td>\n",
       "      <td>13</td>\n",
       "      <td>Married-civ-spouse</td>\n",
       "      <td>Exec-managerial</td>\n",
       "      <td>Husband</td>\n",
       "      <td>White</td>\n",
       "      <td>Male</td>\n",
       "      <td>0.0</td>\n",
       "      <td>0.0</td>\n",
       "      <td>13.0</td>\n",
       "      <td>United-States</td>\n",
       "      <td>&lt;=50K</td>\n",
       "    </tr>\n",
       "    <tr>\n",
       "      <th>2</th>\n",
       "      <td>38</td>\n",
       "      <td>Private</td>\n",
       "      <td>215646</td>\n",
       "      <td>HS-grad</td>\n",
       "      <td>9</td>\n",
       "      <td>Divorced</td>\n",
       "      <td>Handlers-cleaners</td>\n",
       "      <td>Not-in-family</td>\n",
       "      <td>White</td>\n",
       "      <td>Male</td>\n",
       "      <td>0.0</td>\n",
       "      <td>0.0</td>\n",
       "      <td>40.0</td>\n",
       "      <td>United-States</td>\n",
       "      <td>&lt;=50K</td>\n",
       "    </tr>\n",
       "    <tr>\n",
       "      <th>3</th>\n",
       "      <td>53</td>\n",
       "      <td>Private</td>\n",
       "      <td>234721</td>\n",
       "      <td>11th</td>\n",
       "      <td>7</td>\n",
       "      <td>Married-civ-spouse</td>\n",
       "      <td>Handlers-cleaners</td>\n",
       "      <td>Husband</td>\n",
       "      <td>Black</td>\n",
       "      <td>Male</td>\n",
       "      <td>0.0</td>\n",
       "      <td>0.0</td>\n",
       "      <td>40.0</td>\n",
       "      <td>United-States</td>\n",
       "      <td>&lt;=50K</td>\n",
       "    </tr>\n",
       "    <tr>\n",
       "      <th>4</th>\n",
       "      <td>28</td>\n",
       "      <td>Private</td>\n",
       "      <td>338409</td>\n",
       "      <td>Bachelors</td>\n",
       "      <td>13</td>\n",
       "      <td>Married-civ-spouse</td>\n",
       "      <td>Prof-specialty</td>\n",
       "      <td>Wife</td>\n",
       "      <td>Black</td>\n",
       "      <td>Female</td>\n",
       "      <td>0.0</td>\n",
       "      <td>0.0</td>\n",
       "      <td>40.0</td>\n",
       "      <td>Cuba</td>\n",
       "      <td>&lt;=50K</td>\n",
       "    </tr>\n",
       "    <tr>\n",
       "      <th>...</th>\n",
       "      <td>...</td>\n",
       "      <td>...</td>\n",
       "      <td>...</td>\n",
       "      <td>...</td>\n",
       "      <td>...</td>\n",
       "      <td>...</td>\n",
       "      <td>...</td>\n",
       "      <td>...</td>\n",
       "      <td>...</td>\n",
       "      <td>...</td>\n",
       "      <td>...</td>\n",
       "      <td>...</td>\n",
       "      <td>...</td>\n",
       "      <td>...</td>\n",
       "      <td>...</td>\n",
       "    </tr>\n",
       "    <tr>\n",
       "      <th>5220</th>\n",
       "      <td>44</td>\n",
       "      <td>Private</td>\n",
       "      <td>266135</td>\n",
       "      <td>Bachelors</td>\n",
       "      <td>13</td>\n",
       "      <td>Married-civ-spouse</td>\n",
       "      <td>Prof-specialty</td>\n",
       "      <td>Husband</td>\n",
       "      <td>White</td>\n",
       "      <td>Male</td>\n",
       "      <td>0.0</td>\n",
       "      <td>0.0</td>\n",
       "      <td>50.0</td>\n",
       "      <td>United-States</td>\n",
       "      <td>&gt;50K</td>\n",
       "    </tr>\n",
       "    <tr>\n",
       "      <th>5221</th>\n",
       "      <td>18</td>\n",
       "      <td>Private</td>\n",
       "      <td>300379</td>\n",
       "      <td>12th</td>\n",
       "      <td>8</td>\n",
       "      <td>Never-married</td>\n",
       "      <td>Adm-clerical</td>\n",
       "      <td>Own-child</td>\n",
       "      <td>White</td>\n",
       "      <td>Male</td>\n",
       "      <td>0.0</td>\n",
       "      <td>0.0</td>\n",
       "      <td>12.0</td>\n",
       "      <td>United-States</td>\n",
       "      <td>&lt;=50K</td>\n",
       "    </tr>\n",
       "    <tr>\n",
       "      <th>5222</th>\n",
       "      <td>54</td>\n",
       "      <td>Federal-gov</td>\n",
       "      <td>392502</td>\n",
       "      <td>Some-college</td>\n",
       "      <td>10</td>\n",
       "      <td>Married-civ-spouse</td>\n",
       "      <td>Prof-specialty</td>\n",
       "      <td>Husband</td>\n",
       "      <td>White</td>\n",
       "      <td>Male</td>\n",
       "      <td>0.0</td>\n",
       "      <td>0.0</td>\n",
       "      <td>40.0</td>\n",
       "      <td>United-States</td>\n",
       "      <td>&gt;50K</td>\n",
       "    </tr>\n",
       "    <tr>\n",
       "      <th>5223</th>\n",
       "      <td>61</td>\n",
       "      <td>Private</td>\n",
       "      <td>73809</td>\n",
       "      <td>Some-college</td>\n",
       "      <td>10</td>\n",
       "      <td>Divorced</td>\n",
       "      <td>Adm-clerical</td>\n",
       "      <td>Not-in-family</td>\n",
       "      <td>White</td>\n",
       "      <td>Female</td>\n",
       "      <td>0.0</td>\n",
       "      <td>0.0</td>\n",
       "      <td>40.0</td>\n",
       "      <td>United-States</td>\n",
       "      <td>&lt;=50K</td>\n",
       "    </tr>\n",
       "    <tr>\n",
       "      <th>5224</th>\n",
       "      <td>51</td>\n",
       "      <td>Private</td>\n",
       "      <td>193720</td>\n",
       "      <td>Bachelors</td>\n",
       "      <td>13</td>\n",
       "      <td>Marri</td>\n",
       "      <td>Prof-specialty</td>\n",
       "      <td>Husband</td>\n",
       "      <td>White</td>\n",
       "      <td>Male</td>\n",
       "      <td>0.0</td>\n",
       "      <td>0.0</td>\n",
       "      <td>40.0</td>\n",
       "      <td>United-States</td>\n",
       "      <td>&lt;=50K</td>\n",
       "    </tr>\n",
       "  </tbody>\n",
       "</table>\n",
       "<p>5225 rows × 15 columns</p>\n",
       "</div>"
      ],
      "text/plain": [
       "      Age          WorkClass  Fnlwgt      Education  Education_Num  \\\n",
       "0      39          State-gov   77516      Bachelors             13   \n",
       "1      50   Self-emp-not-inc   83311      Bachelors             13   \n",
       "2      38            Private  215646        HS-grad              9   \n",
       "3      53            Private  234721           11th              7   \n",
       "4      28            Private  338409      Bachelors             13   \n",
       "...   ...                ...     ...            ...            ...   \n",
       "5220   44            Private  266135      Bachelors             13   \n",
       "5221   18            Private  300379           12th              8   \n",
       "5222   54        Federal-gov  392502   Some-college             10   \n",
       "5223   61            Private   73809   Some-college             10   \n",
       "5224   51            Private  193720      Bachelors             13   \n",
       "\n",
       "           Marital_Status          Occupation    Relationship    Race  \\\n",
       "0           Never-married        Adm-clerical   Not-in-family   White   \n",
       "1      Married-civ-spouse     Exec-managerial         Husband   White   \n",
       "2                Divorced   Handlers-cleaners   Not-in-family   White   \n",
       "3      Married-civ-spouse   Handlers-cleaners         Husband   Black   \n",
       "4      Married-civ-spouse      Prof-specialty            Wife   Black   \n",
       "...                   ...                 ...             ...     ...   \n",
       "5220   Married-civ-spouse      Prof-specialty         Husband   White   \n",
       "5221        Never-married        Adm-clerical       Own-child   White   \n",
       "5222   Married-civ-spouse      Prof-specialty         Husband   White   \n",
       "5223             Divorced        Adm-clerical   Not-in-family   White   \n",
       "5224                Marri      Prof-specialty         Husband   White   \n",
       "\n",
       "       Gender  Capital_Gain  Capital_Loss  Hours_Per_Week  Native_Country  \\\n",
       "0        Male        2174.0           0.0            40.0   United-States   \n",
       "1        Male           0.0           0.0            13.0   United-States   \n",
       "2        Male           0.0           0.0            40.0   United-States   \n",
       "3        Male           0.0           0.0            40.0   United-States   \n",
       "4      Female           0.0           0.0            40.0            Cuba   \n",
       "...       ...           ...           ...             ...             ...   \n",
       "5220     Male           0.0           0.0            50.0   United-States   \n",
       "5221     Male           0.0           0.0            12.0   United-States   \n",
       "5222     Male           0.0           0.0            40.0   United-States   \n",
       "5223   Female           0.0           0.0            40.0   United-States   \n",
       "5224     Male           0.0           0.0            40.0   United-States   \n",
       "\n",
       "     Income_Bracket  \n",
       "0             <=50K  \n",
       "1             <=50K  \n",
       "2             <=50K  \n",
       "3             <=50K  \n",
       "4             <=50K  \n",
       "...             ...  \n",
       "5220           >50K  \n",
       "5221          <=50K  \n",
       "5222           >50K  \n",
       "5223          <=50K  \n",
       "5224          <=50K  \n",
       "\n",
       "[5225 rows x 15 columns]"
      ]
     },
     "execution_count": 39,
     "metadata": {},
     "output_type": "execute_result"
    }
   ],
   "source": [
    "income_df"
   ]
  },
  {
   "cell_type": "markdown",
   "id": "a6c6113f",
   "metadata": {},
   "source": [
    "# 3.Convert non-numeric labeled columns into categorical types."
   ]
  },
  {
   "cell_type": "code",
   "execution_count": 40,
   "id": "f4f24934",
   "metadata": {},
   "outputs": [],
   "source": [
    "income_df['WorkClass']=income_df['WorkClass'].astype('category')\n",
    "income_df['Marital_Status']=income_df['Marital_Status'].astype('category')\n",
    "income_df['Relationship']=income_df['Relationship'].astype('category')\n",
    "income_df['Race']=income_df['Race'].astype('category')\n",
    "income_df['Gender']=income_df['Gender'].astype('category')\n",
    "income_df['Income_Bracket']=income_df['Income_Bracket'].astype('category')"
   ]
  },
  {
   "cell_type": "markdown",
   "id": "c668fd80",
   "metadata": {},
   "source": [
    "# 4. Use Label Encoder techinnque to convert categorical columns into numerical types."
   ]
  },
  {
   "cell_type": "code",
   "execution_count": 41,
   "id": "910f48e1",
   "metadata": {},
   "outputs": [],
   "source": [
    "from sklearn.preprocessing import LabelEncoder"
   ]
  },
  {
   "cell_type": "code",
   "execution_count": 42,
   "id": "2d5f01b0",
   "metadata": {},
   "outputs": [],
   "source": [
    "x=LabelEncoder()"
   ]
  },
  {
   "cell_type": "code",
   "execution_count": 43,
   "id": "6f100639",
   "metadata": {},
   "outputs": [],
   "source": [
    "income_df['WorkClass']=x.fit_transform(income_df['WorkClass'])\n",
    "income_df['Marital_Status']=x.fit_transform(income_df['Marital_Status'])\n",
    "income_df['Relationship']=x.fit_transform(income_df['Relationship'])\n",
    "income_df['Race']=x.fit_transform(income_df['Race'])\n",
    "income_df['Gender']=x.fit_transform(income_df['Gender'])\n",
    "income_df['Income_Bracket']=x.fit_transform(income_df['Income_Bracket'])\n",
    "income_df['Education']=x.fit_transform(income_df['Education'])\n",
    "income_df['Occupation']=x.fit_transform(income_df['Occupation'])\n",
    "income_df['Native_Country']=x.fit_transform(income_df['Native_Country'])\n"
   ]
  },
  {
   "cell_type": "markdown",
   "id": "57f3a487",
   "metadata": {},
   "source": [
    "# 5.Perform the data scaling."
   ]
  },
  {
   "cell_type": "code",
   "execution_count": 44,
   "id": "bc268569",
   "metadata": {},
   "outputs": [],
   "source": [
    "from sklearn.preprocessing import MinMaxScaler"
   ]
  },
  {
   "cell_type": "code",
   "execution_count": 45,
   "id": "0bd8b436",
   "metadata": {},
   "outputs": [
    {
     "data": {
      "text/html": [
       "<div>\n",
       "<style scoped>\n",
       "    .dataframe tbody tr th:only-of-type {\n",
       "        vertical-align: middle;\n",
       "    }\n",
       "\n",
       "    .dataframe tbody tr th {\n",
       "        vertical-align: top;\n",
       "    }\n",
       "\n",
       "    .dataframe thead th {\n",
       "        text-align: right;\n",
       "    }\n",
       "</style>\n",
       "<table border=\"1\" class=\"dataframe\">\n",
       "  <thead>\n",
       "    <tr style=\"text-align: right;\">\n",
       "      <th></th>\n",
       "      <th>Age</th>\n",
       "      <th>WorkClass</th>\n",
       "      <th>Fnlwgt</th>\n",
       "      <th>Education</th>\n",
       "      <th>Education_Num</th>\n",
       "      <th>Marital_Status</th>\n",
       "      <th>Occupation</th>\n",
       "      <th>Relationship</th>\n",
       "      <th>Race</th>\n",
       "      <th>Gender</th>\n",
       "      <th>Capital_Gain</th>\n",
       "      <th>Capital_Loss</th>\n",
       "      <th>Hours_Per_Week</th>\n",
       "      <th>Native_Country</th>\n",
       "      <th>Income_Bracket</th>\n",
       "    </tr>\n",
       "  </thead>\n",
       "  <tbody>\n",
       "    <tr>\n",
       "      <th>0</th>\n",
       "      <td>0.301370</td>\n",
       "      <td>0.857143</td>\n",
       "      <td>0.057415</td>\n",
       "      <td>0.600000</td>\n",
       "      <td>0.800000</td>\n",
       "      <td>0.714286</td>\n",
       "      <td>0.066667</td>\n",
       "      <td>0.166667</td>\n",
       "      <td>0.8</td>\n",
       "      <td>0.5</td>\n",
       "      <td>0.02174</td>\n",
       "      <td>0.0</td>\n",
       "      <td>0.397959</td>\n",
       "      <td>0.925</td>\n",
       "      <td>0.0</td>\n",
       "    </tr>\n",
       "    <tr>\n",
       "      <th>1</th>\n",
       "      <td>0.452055</td>\n",
       "      <td>0.714286</td>\n",
       "      <td>0.063130</td>\n",
       "      <td>0.600000</td>\n",
       "      <td>0.800000</td>\n",
       "      <td>0.428571</td>\n",
       "      <td>0.266667</td>\n",
       "      <td>0.000000</td>\n",
       "      <td>0.8</td>\n",
       "      <td>0.5</td>\n",
       "      <td>0.00000</td>\n",
       "      <td>0.0</td>\n",
       "      <td>0.122449</td>\n",
       "      <td>0.925</td>\n",
       "      <td>0.0</td>\n",
       "    </tr>\n",
       "    <tr>\n",
       "      <th>2</th>\n",
       "      <td>0.287671</td>\n",
       "      <td>0.428571</td>\n",
       "      <td>0.193648</td>\n",
       "      <td>0.733333</td>\n",
       "      <td>0.533333</td>\n",
       "      <td>0.000000</td>\n",
       "      <td>0.400000</td>\n",
       "      <td>0.166667</td>\n",
       "      <td>0.8</td>\n",
       "      <td>0.5</td>\n",
       "      <td>0.00000</td>\n",
       "      <td>0.0</td>\n",
       "      <td>0.397959</td>\n",
       "      <td>0.925</td>\n",
       "      <td>0.0</td>\n",
       "    </tr>\n",
       "    <tr>\n",
       "      <th>3</th>\n",
       "      <td>0.493151</td>\n",
       "      <td>0.428571</td>\n",
       "      <td>0.212462</td>\n",
       "      <td>0.066667</td>\n",
       "      <td>0.400000</td>\n",
       "      <td>0.428571</td>\n",
       "      <td>0.400000</td>\n",
       "      <td>0.000000</td>\n",
       "      <td>0.4</td>\n",
       "      <td>0.5</td>\n",
       "      <td>0.00000</td>\n",
       "      <td>0.0</td>\n",
       "      <td>0.397959</td>\n",
       "      <td>0.925</td>\n",
       "      <td>0.0</td>\n",
       "    </tr>\n",
       "    <tr>\n",
       "      <th>4</th>\n",
       "      <td>0.150685</td>\n",
       "      <td>0.428571</td>\n",
       "      <td>0.314726</td>\n",
       "      <td>0.600000</td>\n",
       "      <td>0.800000</td>\n",
       "      <td>0.428571</td>\n",
       "      <td>0.666667</td>\n",
       "      <td>0.833333</td>\n",
       "      <td>0.4</td>\n",
       "      <td>0.0</td>\n",
       "      <td>0.00000</td>\n",
       "      <td>0.0</td>\n",
       "      <td>0.397959</td>\n",
       "      <td>0.125</td>\n",
       "      <td>0.0</td>\n",
       "    </tr>\n",
       "  </tbody>\n",
       "</table>\n",
       "</div>"
      ],
      "text/plain": [
       "        Age  WorkClass    Fnlwgt  Education  Education_Num  Marital_Status  \\\n",
       "0  0.301370   0.857143  0.057415   0.600000       0.800000        0.714286   \n",
       "1  0.452055   0.714286  0.063130   0.600000       0.800000        0.428571   \n",
       "2  0.287671   0.428571  0.193648   0.733333       0.533333        0.000000   \n",
       "3  0.493151   0.428571  0.212462   0.066667       0.400000        0.428571   \n",
       "4  0.150685   0.428571  0.314726   0.600000       0.800000        0.428571   \n",
       "\n",
       "   Occupation  Relationship  Race  Gender  Capital_Gain  Capital_Loss  \\\n",
       "0    0.066667      0.166667   0.8     0.5       0.02174           0.0   \n",
       "1    0.266667      0.000000   0.8     0.5       0.00000           0.0   \n",
       "2    0.400000      0.166667   0.8     0.5       0.00000           0.0   \n",
       "3    0.400000      0.000000   0.4     0.5       0.00000           0.0   \n",
       "4    0.666667      0.833333   0.4     0.0       0.00000           0.0   \n",
       "\n",
       "   Hours_Per_Week  Native_Country  Income_Bracket  \n",
       "0        0.397959           0.925             0.0  \n",
       "1        0.122449           0.925             0.0  \n",
       "2        0.397959           0.925             0.0  \n",
       "3        0.397959           0.925             0.0  \n",
       "4        0.397959           0.125             0.0  "
      ]
     },
     "execution_count": 45,
     "metadata": {},
     "output_type": "execute_result"
    }
   ],
   "source": [
    "def feature_scaling(scale):\n",
    "    new_df=income_df.select_dtypes(exclude=['object','category'])\n",
    "    if scale=='minmax':\n",
    "        scaler=preprocessing.MinMaxScaler()\n",
    "    else:\n",
    "        scaler=preprocessing.standardscaler()\n",
    "    scale_df=pd.DataFrame(scaler.fit_transform(new_df),columns=new_df.columns)\n",
    "    return scale_df\n",
    "final_df=feature_scaling('minmax')\n",
    "final_df.head()"
   ]
  },
  {
   "cell_type": "markdown",
   "id": "5b1b891c",
   "metadata": {},
   "source": [
    "# Task 2:Data preparation and visualization(contd)."
   ]
  },
  {
   "cell_type": "markdown",
   "id": "99201190",
   "metadata": {},
   "source": [
    "# 6.Select the test features based on their correlation value."
   ]
  },
  {
   "cell_type": "code",
   "execution_count": 46,
   "id": "4858420c",
   "metadata": {},
   "outputs": [
    {
     "data": {
      "text/html": [
       "<div>\n",
       "<style scoped>\n",
       "    .dataframe tbody tr th:only-of-type {\n",
       "        vertical-align: middle;\n",
       "    }\n",
       "\n",
       "    .dataframe tbody tr th {\n",
       "        vertical-align: top;\n",
       "    }\n",
       "\n",
       "    .dataframe thead th {\n",
       "        text-align: right;\n",
       "    }\n",
       "</style>\n",
       "<table border=\"1\" class=\"dataframe\">\n",
       "  <thead>\n",
       "    <tr style=\"text-align: right;\">\n",
       "      <th></th>\n",
       "      <th>Age</th>\n",
       "      <th>WorkClass</th>\n",
       "      <th>Fnlwgt</th>\n",
       "      <th>Education</th>\n",
       "      <th>Education_Num</th>\n",
       "      <th>Marital_Status</th>\n",
       "      <th>Occupation</th>\n",
       "      <th>Relationship</th>\n",
       "      <th>Race</th>\n",
       "      <th>Gender</th>\n",
       "      <th>Capital_Gain</th>\n",
       "      <th>Capital_Loss</th>\n",
       "      <th>Hours_Per_Week</th>\n",
       "      <th>Native_Country</th>\n",
       "      <th>Income_Bracket</th>\n",
       "    </tr>\n",
       "  </thead>\n",
       "  <tbody>\n",
       "    <tr>\n",
       "      <th>Age</th>\n",
       "      <td>1.000000</td>\n",
       "      <td>0.049555</td>\n",
       "      <td>-0.076777</td>\n",
       "      <td>-0.026686</td>\n",
       "      <td>0.022439</td>\n",
       "      <td>-0.231200</td>\n",
       "      <td>-0.010577</td>\n",
       "      <td>-0.254472</td>\n",
       "      <td>0.026368</td>\n",
       "      <td>0.070172</td>\n",
       "      <td>0.060564</td>\n",
       "      <td>0.058641</td>\n",
       "      <td>0.040938</td>\n",
       "      <td>0.007614</td>\n",
       "      <td>0.230580</td>\n",
       "    </tr>\n",
       "    <tr>\n",
       "      <th>WorkClass</th>\n",
       "      <td>0.049555</td>\n",
       "      <td>1.000000</td>\n",
       "      <td>-0.021095</td>\n",
       "      <td>0.032040</td>\n",
       "      <td>0.100790</td>\n",
       "      <td>-0.075968</td>\n",
       "      <td>0.272373</td>\n",
       "      <td>-0.116913</td>\n",
       "      <td>0.060315</td>\n",
       "      <td>0.108301</td>\n",
       "      <td>0.047915</td>\n",
       "      <td>0.009946</td>\n",
       "      <td>0.147920</td>\n",
       "      <td>-0.012535</td>\n",
       "      <td>0.087075</td>\n",
       "    </tr>\n",
       "    <tr>\n",
       "      <th>Fnlwgt</th>\n",
       "      <td>-0.076777</td>\n",
       "      <td>-0.021095</td>\n",
       "      <td>1.000000</td>\n",
       "      <td>-0.052971</td>\n",
       "      <td>-0.058953</td>\n",
       "      <td>0.042202</td>\n",
       "      <td>0.012624</td>\n",
       "      <td>0.013068</td>\n",
       "      <td>-0.018114</td>\n",
       "      <td>0.035331</td>\n",
       "      <td>-0.004440</td>\n",
       "      <td>-0.002639</td>\n",
       "      <td>-0.006194</td>\n",
       "      <td>-0.057819</td>\n",
       "      <td>-0.023314</td>\n",
       "    </tr>\n",
       "    <tr>\n",
       "      <th>Education</th>\n",
       "      <td>-0.026686</td>\n",
       "      <td>0.032040</td>\n",
       "      <td>-0.052971</td>\n",
       "      <td>1.000000</td>\n",
       "      <td>0.357898</td>\n",
       "      <td>-0.023691</td>\n",
       "      <td>-0.010690</td>\n",
       "      <td>-0.001576</td>\n",
       "      <td>0.022980</td>\n",
       "      <td>-0.035012</td>\n",
       "      <td>0.036098</td>\n",
       "      <td>0.026254</td>\n",
       "      <td>0.043782</td>\n",
       "      <td>0.063704</td>\n",
       "      <td>0.058625</td>\n",
       "    </tr>\n",
       "    <tr>\n",
       "      <th>Education_Num</th>\n",
       "      <td>0.022439</td>\n",
       "      <td>0.100790</td>\n",
       "      <td>-0.058953</td>\n",
       "      <td>0.357898</td>\n",
       "      <td>1.000000</td>\n",
       "      <td>-0.047258</td>\n",
       "      <td>0.123446</td>\n",
       "      <td>-0.093122</td>\n",
       "      <td>0.038518</td>\n",
       "      <td>0.017840</td>\n",
       "      <td>0.118657</td>\n",
       "      <td>0.099712</td>\n",
       "      <td>0.161949</td>\n",
       "      <td>0.025849</td>\n",
       "      <td>0.317333</td>\n",
       "    </tr>\n",
       "    <tr>\n",
       "      <th>Marital_Status</th>\n",
       "      <td>-0.231200</td>\n",
       "      <td>-0.075968</td>\n",
       "      <td>0.042202</td>\n",
       "      <td>-0.023691</td>\n",
       "      <td>-0.047258</td>\n",
       "      <td>1.000000</td>\n",
       "      <td>-0.002758</td>\n",
       "      <td>0.106664</td>\n",
       "      <td>-0.073142</td>\n",
       "      <td>-0.037554</td>\n",
       "      <td>-0.039038</td>\n",
       "      <td>-0.025418</td>\n",
       "      <td>-0.182464</td>\n",
       "      <td>-0.020939</td>\n",
       "      <td>-0.150257</td>\n",
       "    </tr>\n",
       "    <tr>\n",
       "      <th>Occupation</th>\n",
       "      <td>-0.010577</td>\n",
       "      <td>0.272373</td>\n",
       "      <td>0.012624</td>\n",
       "      <td>-0.010690</td>\n",
       "      <td>0.123446</td>\n",
       "      <td>-0.002758</td>\n",
       "      <td>1.000000</td>\n",
       "      <td>-0.092054</td>\n",
       "      <td>0.010990</td>\n",
       "      <td>0.093350</td>\n",
       "      <td>0.035920</td>\n",
       "      <td>0.017298</td>\n",
       "      <td>0.096956</td>\n",
       "      <td>-0.022169</td>\n",
       "      <td>0.081739</td>\n",
       "    </tr>\n",
       "    <tr>\n",
       "      <th>Relationship</th>\n",
       "      <td>-0.254472</td>\n",
       "      <td>-0.116913</td>\n",
       "      <td>0.013068</td>\n",
       "      <td>-0.001576</td>\n",
       "      <td>-0.093122</td>\n",
       "      <td>0.106664</td>\n",
       "      <td>-0.092054</td>\n",
       "      <td>1.000000</td>\n",
       "      <td>-0.116854</td>\n",
       "      <td>-0.565888</td>\n",
       "      <td>-0.051803</td>\n",
       "      <td>-0.057357</td>\n",
       "      <td>-0.258661</td>\n",
       "      <td>0.007618</td>\n",
       "      <td>-0.236597</td>\n",
       "    </tr>\n",
       "    <tr>\n",
       "      <th>Race</th>\n",
       "      <td>0.026368</td>\n",
       "      <td>0.060315</td>\n",
       "      <td>-0.018114</td>\n",
       "      <td>0.022980</td>\n",
       "      <td>0.038518</td>\n",
       "      <td>-0.073142</td>\n",
       "      <td>0.010990</td>\n",
       "      <td>-0.116854</td>\n",
       "      <td>1.000000</td>\n",
       "      <td>0.089470</td>\n",
       "      <td>0.017462</td>\n",
       "      <td>0.027262</td>\n",
       "      <td>0.045062</td>\n",
       "      <td>0.125436</td>\n",
       "      <td>0.077722</td>\n",
       "    </tr>\n",
       "    <tr>\n",
       "      <th>Gender</th>\n",
       "      <td>0.070172</td>\n",
       "      <td>0.108301</td>\n",
       "      <td>0.035331</td>\n",
       "      <td>-0.035012</td>\n",
       "      <td>0.017840</td>\n",
       "      <td>-0.037554</td>\n",
       "      <td>0.093350</td>\n",
       "      <td>-0.565888</td>\n",
       "      <td>0.089470</td>\n",
       "      <td>1.000000</td>\n",
       "      <td>0.039618</td>\n",
       "      <td>0.061148</td>\n",
       "      <td>0.227462</td>\n",
       "      <td>-0.020855</td>\n",
       "      <td>0.201091</td>\n",
       "    </tr>\n",
       "    <tr>\n",
       "      <th>Capital_Gain</th>\n",
       "      <td>0.060564</td>\n",
       "      <td>0.047915</td>\n",
       "      <td>-0.004440</td>\n",
       "      <td>0.036098</td>\n",
       "      <td>0.118657</td>\n",
       "      <td>-0.039038</td>\n",
       "      <td>0.035920</td>\n",
       "      <td>-0.051803</td>\n",
       "      <td>0.017462</td>\n",
       "      <td>0.039618</td>\n",
       "      <td>1.000000</td>\n",
       "      <td>-0.033465</td>\n",
       "      <td>0.073186</td>\n",
       "      <td>-0.012930</td>\n",
       "      <td>0.219093</td>\n",
       "    </tr>\n",
       "    <tr>\n",
       "      <th>Capital_Loss</th>\n",
       "      <td>0.058641</td>\n",
       "      <td>0.009946</td>\n",
       "      <td>-0.002639</td>\n",
       "      <td>0.026254</td>\n",
       "      <td>0.099712</td>\n",
       "      <td>-0.025418</td>\n",
       "      <td>0.017298</td>\n",
       "      <td>-0.057357</td>\n",
       "      <td>0.027262</td>\n",
       "      <td>0.061148</td>\n",
       "      <td>-0.033465</td>\n",
       "      <td>1.000000</td>\n",
       "      <td>0.079551</td>\n",
       "      <td>-0.000434</td>\n",
       "      <td>0.158060</td>\n",
       "    </tr>\n",
       "    <tr>\n",
       "      <th>Hours_Per_Week</th>\n",
       "      <td>0.040938</td>\n",
       "      <td>0.147920</td>\n",
       "      <td>-0.006194</td>\n",
       "      <td>0.043782</td>\n",
       "      <td>0.161949</td>\n",
       "      <td>-0.182464</td>\n",
       "      <td>0.096956</td>\n",
       "      <td>-0.258661</td>\n",
       "      <td>0.045062</td>\n",
       "      <td>0.227462</td>\n",
       "      <td>0.073186</td>\n",
       "      <td>0.079551</td>\n",
       "      <td>1.000000</td>\n",
       "      <td>-0.004116</td>\n",
       "      <td>0.235828</td>\n",
       "    </tr>\n",
       "    <tr>\n",
       "      <th>Native_Country</th>\n",
       "      <td>0.007614</td>\n",
       "      <td>-0.012535</td>\n",
       "      <td>-0.057819</td>\n",
       "      <td>0.063704</td>\n",
       "      <td>0.025849</td>\n",
       "      <td>-0.020939</td>\n",
       "      <td>-0.022169</td>\n",
       "      <td>0.007618</td>\n",
       "      <td>0.125436</td>\n",
       "      <td>-0.020855</td>\n",
       "      <td>-0.012930</td>\n",
       "      <td>-0.000434</td>\n",
       "      <td>-0.004116</td>\n",
       "      <td>1.000000</td>\n",
       "      <td>0.000501</td>\n",
       "    </tr>\n",
       "    <tr>\n",
       "      <th>Income_Bracket</th>\n",
       "      <td>0.230580</td>\n",
       "      <td>0.087075</td>\n",
       "      <td>-0.023314</td>\n",
       "      <td>0.058625</td>\n",
       "      <td>0.317333</td>\n",
       "      <td>-0.150257</td>\n",
       "      <td>0.081739</td>\n",
       "      <td>-0.236597</td>\n",
       "      <td>0.077722</td>\n",
       "      <td>0.201091</td>\n",
       "      <td>0.219093</td>\n",
       "      <td>0.158060</td>\n",
       "      <td>0.235828</td>\n",
       "      <td>0.000501</td>\n",
       "      <td>1.000000</td>\n",
       "    </tr>\n",
       "  </tbody>\n",
       "</table>\n",
       "</div>"
      ],
      "text/plain": [
       "                     Age  WorkClass    Fnlwgt  Education  Education_Num  \\\n",
       "Age             1.000000   0.049555 -0.076777  -0.026686       0.022439   \n",
       "WorkClass       0.049555   1.000000 -0.021095   0.032040       0.100790   \n",
       "Fnlwgt         -0.076777  -0.021095  1.000000  -0.052971      -0.058953   \n",
       "Education      -0.026686   0.032040 -0.052971   1.000000       0.357898   \n",
       "Education_Num   0.022439   0.100790 -0.058953   0.357898       1.000000   \n",
       "Marital_Status -0.231200  -0.075968  0.042202  -0.023691      -0.047258   \n",
       "Occupation     -0.010577   0.272373  0.012624  -0.010690       0.123446   \n",
       "Relationship   -0.254472  -0.116913  0.013068  -0.001576      -0.093122   \n",
       "Race            0.026368   0.060315 -0.018114   0.022980       0.038518   \n",
       "Gender          0.070172   0.108301  0.035331  -0.035012       0.017840   \n",
       "Capital_Gain    0.060564   0.047915 -0.004440   0.036098       0.118657   \n",
       "Capital_Loss    0.058641   0.009946 -0.002639   0.026254       0.099712   \n",
       "Hours_Per_Week  0.040938   0.147920 -0.006194   0.043782       0.161949   \n",
       "Native_Country  0.007614  -0.012535 -0.057819   0.063704       0.025849   \n",
       "Income_Bracket  0.230580   0.087075 -0.023314   0.058625       0.317333   \n",
       "\n",
       "                Marital_Status  Occupation  Relationship      Race    Gender  \\\n",
       "Age                  -0.231200   -0.010577     -0.254472  0.026368  0.070172   \n",
       "WorkClass            -0.075968    0.272373     -0.116913  0.060315  0.108301   \n",
       "Fnlwgt                0.042202    0.012624      0.013068 -0.018114  0.035331   \n",
       "Education            -0.023691   -0.010690     -0.001576  0.022980 -0.035012   \n",
       "Education_Num        -0.047258    0.123446     -0.093122  0.038518  0.017840   \n",
       "Marital_Status        1.000000   -0.002758      0.106664 -0.073142 -0.037554   \n",
       "Occupation           -0.002758    1.000000     -0.092054  0.010990  0.093350   \n",
       "Relationship          0.106664   -0.092054      1.000000 -0.116854 -0.565888   \n",
       "Race                 -0.073142    0.010990     -0.116854  1.000000  0.089470   \n",
       "Gender               -0.037554    0.093350     -0.565888  0.089470  1.000000   \n",
       "Capital_Gain         -0.039038    0.035920     -0.051803  0.017462  0.039618   \n",
       "Capital_Loss         -0.025418    0.017298     -0.057357  0.027262  0.061148   \n",
       "Hours_Per_Week       -0.182464    0.096956     -0.258661  0.045062  0.227462   \n",
       "Native_Country       -0.020939   -0.022169      0.007618  0.125436 -0.020855   \n",
       "Income_Bracket       -0.150257    0.081739     -0.236597  0.077722  0.201091   \n",
       "\n",
       "                Capital_Gain  Capital_Loss  Hours_Per_Week  Native_Country  \\\n",
       "Age                 0.060564      0.058641        0.040938        0.007614   \n",
       "WorkClass           0.047915      0.009946        0.147920       -0.012535   \n",
       "Fnlwgt             -0.004440     -0.002639       -0.006194       -0.057819   \n",
       "Education           0.036098      0.026254        0.043782        0.063704   \n",
       "Education_Num       0.118657      0.099712        0.161949        0.025849   \n",
       "Marital_Status     -0.039038     -0.025418       -0.182464       -0.020939   \n",
       "Occupation          0.035920      0.017298        0.096956       -0.022169   \n",
       "Relationship       -0.051803     -0.057357       -0.258661        0.007618   \n",
       "Race                0.017462      0.027262        0.045062        0.125436   \n",
       "Gender              0.039618      0.061148        0.227462       -0.020855   \n",
       "Capital_Gain        1.000000     -0.033465        0.073186       -0.012930   \n",
       "Capital_Loss       -0.033465      1.000000        0.079551       -0.000434   \n",
       "Hours_Per_Week      0.073186      0.079551        1.000000       -0.004116   \n",
       "Native_Country     -0.012930     -0.000434       -0.004116        1.000000   \n",
       "Income_Bracket      0.219093      0.158060        0.235828        0.000501   \n",
       "\n",
       "                Income_Bracket  \n",
       "Age                   0.230580  \n",
       "WorkClass             0.087075  \n",
       "Fnlwgt               -0.023314  \n",
       "Education             0.058625  \n",
       "Education_Num         0.317333  \n",
       "Marital_Status       -0.150257  \n",
       "Occupation            0.081739  \n",
       "Relationship         -0.236597  \n",
       "Race                  0.077722  \n",
       "Gender                0.201091  \n",
       "Capital_Gain          0.219093  \n",
       "Capital_Loss          0.158060  \n",
       "Hours_Per_Week        0.235828  \n",
       "Native_Country        0.000501  \n",
       "Income_Bracket        1.000000  "
      ]
     },
     "execution_count": 46,
     "metadata": {},
     "output_type": "execute_result"
    }
   ],
   "source": [
    "income_df.corr().T"
   ]
  },
  {
   "cell_type": "code",
   "execution_count": 47,
   "id": "72cb4cd6",
   "metadata": {},
   "outputs": [
    {
     "data": {
      "image/png": "[encoded data removed]",
      "text/plain": [
       "<Figure size 1500x600 with 2 Axes>"
      ]
     },
     "metadata": {},
     "output_type": "display_data"
    }
   ],
   "source": [
    "plt.figure(figsize=(15,6))\n",
    "sb.heatmap(income_df.corr(),annot=True,linecolor='b',linewidth=.5);"
   ]
  },
  {
   "cell_type": "markdown",
   "id": "3eef1679",
   "metadata": {},
   "source": [
    "# 7.Split the data into train set and test est in 80:20 ratio by row index."
   ]
  },
  {
   "cell_type": "code",
   "execution_count": 48,
   "id": "997e00ae",
   "metadata": {},
   "outputs": [],
   "source": [
    "X=income_df.drop(columns='Income_Bracket',axis=1)\n",
    "Y=income_df['Income_Bracket']"
   ]
  },
  {
   "cell_type": "code",
   "execution_count": 49,
   "id": "cfeb994c",
   "metadata": {},
   "outputs": [],
   "source": [
    "X_train,X_test,Y_train,Y_test=train_test_split(X,Y,test_size=.2,random_state=100)"
   ]
  },
  {
   "cell_type": "code",
   "execution_count": 50,
   "id": "f9466692",
   "metadata": {},
   "outputs": [
    {
     "data": {
      "text/plain": [
       "(4180, 14)"
      ]
     },
     "execution_count": 50,
     "metadata": {},
     "output_type": "execute_result"
    }
   ],
   "source": [
    "X_train.shape"
   ]
  },
  {
   "cell_type": "code",
   "execution_count": 51,
   "id": "ed3c25f6",
   "metadata": {},
   "outputs": [
    {
     "data": {
      "text/plain": [
       "(4180,)"
      ]
     },
     "execution_count": 51,
     "metadata": {},
     "output_type": "execute_result"
    }
   ],
   "source": [
    "Y_train.shape"
   ]
  },
  {
   "cell_type": "markdown",
   "id": "c8fbacf4",
   "metadata": {},
   "source": [
    "# 8.Perform all features data visualization to present the data."
   ]
  },
  {
   "cell_type": "code",
   "execution_count": 57,
   "id": "fcbdbc50",
   "metadata": {},
   "outputs": [
    {
     "data": {
      "image/png": "[encoded data removed]",
      "text/plain": [
       "<Figure size 1500x600 with 9 Axes>"
      ]
     },
     "metadata": {},
     "output_type": "display_data"
    }
   ],
   "source": [
    "numeric=num\n",
    "num_cols=3\n",
    "bins=80\n",
    "num_rows=int(len(numeric)/num_cols)\n",
    "fig,axs=plt.subplots(num_rows,num_cols,tight_layout=True,figsize=(15,6))\n",
    "for col, ax in zip(numeric,axs.flatten()[:len(numeric)]):\n",
    "    ax.hist(income_df[col],bins=bins)\n",
    "    ax.set_title(col)"
   ]
  },
  {
   "cell_type": "markdown",
   "id": "10ded063",
   "metadata": {},
   "source": [
    "# Visualization for categorical data."
   ]
  },
  {
   "cell_type": "code",
   "execution_count": 58,
   "id": "df081c29",
   "metadata": {},
   "outputs": [
    {
     "data": {
      "image/png": "[encoded data removed]",
      "text/plain": [
       "<Figure size 2000x1200 with 6 Axes>"
      ]
     },
     "metadata": {},
     "output_type": "display_data"
    }
   ],
   "source": [
    "cat_col=cat\n",
    "num_cols=3\n",
    "num_row=int(len(cat_col)/num_cols)\n",
    "fig,axs=plt.subplots(num_row,num_cols,tight_layout=True,figsize=(20,12))\n",
    "for col,ax in zip(cat_col,axs.flatten()[:len(cat_col)]):\n",
    "    ax.pie(labels=income_df[col].value_counts().index,x=income_df[col].value_counts().values,autopct='%.2f%%')\n",
    "    ax.set_title(col)"
   ]
  },
  {
   "cell_type": "code",
   "execution_count": 53,
   "id": "263cbdb1",
   "metadata": {},
   "outputs": [
    {
     "name": "stdout",
     "output_type": "stream",
     "text": [
      "<class 'pandas.core.frame.DataFrame'>\n",
      "RangeIndex: 5225 entries, 0 to 5224\n",
      "Data columns (total 15 columns):\n",
      " #   Column          Non-Null Count  Dtype  \n",
      "---  ------          --------------  -----  \n",
      " 0   Age             5225 non-null   int64  \n",
      " 1   WorkClass       5225 non-null   int32  \n",
      " 2   Fnlwgt          5225 non-null   int64  \n",
      " 3   Education       5225 non-null   int32  \n",
      " 4   Education_Num   5225 non-null   int64  \n",
      " 5   Marital_Status  5225 non-null   int32  \n",
      " 6   Occupation      5225 non-null   int32  \n",
      " 7   Relationship    5225 non-null   int32  \n",
      " 8   Race            5225 non-null   int32  \n",
      " 9   Gender          5225 non-null   int32  \n",
      " 10  Capital_Gain    5225 non-null   float64\n",
      " 11  Capital_Loss    5225 non-null   float64\n",
      " 12  Hours_Per_Week  5225 non-null   float64\n",
      " 13  Native_Country  5225 non-null   int32  \n",
      " 14  Income_Bracket  5225 non-null   int32  \n",
      "dtypes: float64(3), int32(9), int64(3)\n",
      "memory usage: 428.7 KB\n"
     ]
    }
   ],
   "source": [
    "income_df.info()"
   ]
  },
  {
   "cell_type": "markdown",
   "id": "56e67e7f",
   "metadata": {},
   "source": [
    "# Task 3:Train the Model."
   ]
  },
  {
   "cell_type": "markdown",
   "id": "c59880ff",
   "metadata": {},
   "source": [
    "# 1. Bulid a Logistic regression model by fitting the training dataset."
   ]
  },
  {
   "cell_type": "code",
   "execution_count": 54,
   "id": "4f6b374e",
   "metadata": {},
   "outputs": [
    {
     "data": {
      "text/plain": [
       "0.7880382775119618"
      ]
     },
     "execution_count": 54,
     "metadata": {},
     "output_type": "execute_result"
    }
   ],
   "source": [
    "from sklearn.linear_model import LogisticRegression\n",
    "model=LogisticRegression()\n",
    "model.fit(X_train,Y_train)\n",
    "model.score(X_train,Y_train)"
   ]
  },
  {
   "cell_type": "code",
   "execution_count": 60,
   "id": "20bc0e6e",
   "metadata": {},
   "outputs": [
    {
     "data": {
      "text/plain": [
       "array([0, 0, 0, ..., 0, 0, 0])"
      ]
     },
     "execution_count": 60,
     "metadata": {},
     "output_type": "execute_result"
    }
   ],
   "source": [
    "# predict_y\n",
    "pred_y=model.predict(X_test)\n",
    "pred_y"
   ]
  },
  {
   "cell_type": "markdown",
   "id": "f488d932",
   "metadata": {},
   "source": [
    "# a Logistic regression model by fitting the testing dataset."
   ]
  },
  {
   "cell_type": "code",
   "execution_count": 64,
   "id": "ba5eec1f",
   "metadata": {},
   "outputs": [
    {
     "data": {
      "text/plain": [
       "0.7854066985645933"
      ]
     },
     "execution_count": 64,
     "metadata": {},
     "output_type": "execute_result"
    }
   ],
   "source": [
    "model.fit(X_test,Y_test)\n",
    "model.score(X_train,Y_train)"
   ]
  },
  {
   "cell_type": "markdown",
   "id": "320a6213",
   "metadata": {},
   "source": [
    "# 2.Predict the income of the test dataset using your model."
   ]
  },
  {
   "cell_type": "markdown",
   "id": "1c74c7c8",
   "metadata": {},
   "source": [
    "# Task 4: Model Evaluation."
   ]
  },
  {
   "cell_type": "markdown",
   "id": "01475b59",
   "metadata": {},
   "source": [
    "# 1.Bulid  a confusion matrix."
   ]
  },
  {
   "cell_type": "code",
   "execution_count": 322,
   "id": "2591911c",
   "metadata": {},
   "outputs": [
    {
     "data": {
      "text/html": [
       "<div>\n",
       "<style scoped>\n",
       "    .dataframe tbody tr th:only-of-type {\n",
       "        vertical-align: middle;\n",
       "    }\n",
       "\n",
       "    .dataframe tbody tr th {\n",
       "        vertical-align: top;\n",
       "    }\n",
       "\n",
       "    .dataframe thead th {\n",
       "        text-align: right;\n",
       "    }\n",
       "</style>\n",
       "<table border=\"1\" class=\"dataframe\">\n",
       "  <thead>\n",
       "    <tr style=\"text-align: right;\">\n",
       "      <th></th>\n",
       "      <th>Features</th>\n",
       "      <th>coef</th>\n",
       "    </tr>\n",
       "  </thead>\n",
       "  <tbody>\n",
       "    <tr>\n",
       "      <th>0</th>\n",
       "      <td>Age</td>\n",
       "      <td>-0.008764</td>\n",
       "    </tr>\n",
       "    <tr>\n",
       "      <th>1</th>\n",
       "      <td>WorkClass</td>\n",
       "      <td>0.001224</td>\n",
       "    </tr>\n",
       "    <tr>\n",
       "      <th>2</th>\n",
       "      <td>Fnlwgt</td>\n",
       "      <td>0.000030</td>\n",
       "    </tr>\n",
       "    <tr>\n",
       "      <th>3</th>\n",
       "      <td>Education</td>\n",
       "      <td>0.006231</td>\n",
       "    </tr>\n",
       "    <tr>\n",
       "      <th>4</th>\n",
       "      <td>Education_Num</td>\n",
       "      <td>-0.001213</td>\n",
       "    </tr>\n",
       "    <tr>\n",
       "      <th>5</th>\n",
       "      <td>Marital_Status</td>\n",
       "      <td>0.006359</td>\n",
       "    </tr>\n",
       "    <tr>\n",
       "      <th>6</th>\n",
       "      <td>Occupation</td>\n",
       "      <td>0.001221</td>\n",
       "    </tr>\n",
       "    <tr>\n",
       "      <th>7</th>\n",
       "      <td>Relationship</td>\n",
       "      <td>0.006293</td>\n",
       "    </tr>\n",
       "    <tr>\n",
       "      <th>8</th>\n",
       "      <td>Race</td>\n",
       "      <td>0.002356</td>\n",
       "    </tr>\n",
       "    <tr>\n",
       "      <th>9</th>\n",
       "      <td>Gender</td>\n",
       "      <td>-0.000696</td>\n",
       "    </tr>\n",
       "    <tr>\n",
       "      <th>10</th>\n",
       "      <td>Capital_Gain</td>\n",
       "      <td>0.001192</td>\n",
       "    </tr>\n",
       "    <tr>\n",
       "      <th>11</th>\n",
       "      <td>Capital_Loss</td>\n",
       "      <td>0.000826</td>\n",
       "    </tr>\n",
       "    <tr>\n",
       "      <th>12</th>\n",
       "      <td>Hours_Per_Week</td>\n",
       "      <td>-0.003826</td>\n",
       "    </tr>\n",
       "    <tr>\n",
       "      <th>13</th>\n",
       "      <td>Native_Country</td>\n",
       "      <td>0.027580</td>\n",
       "    </tr>\n",
       "  </tbody>\n",
       "</table>\n",
       "</div>"
      ],
      "text/plain": [
       "          Features      coef\n",
       "0              Age -0.008764\n",
       "1        WorkClass  0.001224\n",
       "2           Fnlwgt  0.000030\n",
       "3        Education  0.006231\n",
       "4    Education_Num -0.001213\n",
       "5   Marital_Status  0.006359\n",
       "6       Occupation  0.001221\n",
       "7     Relationship  0.006293\n",
       "8             Race  0.002356\n",
       "9           Gender -0.000696\n",
       "10    Capital_Gain  0.001192\n",
       "11    Capital_Loss  0.000826\n",
       "12  Hours_Per_Week -0.003826\n",
       "13  Native_Country  0.027580"
      ]
     },
     "execution_count": 322,
     "metadata": {},
     "output_type": "execute_result"
    }
   ],
   "source": [
    "df=pd.DataFrame(X_train.columns)\n",
    "df.columns=['Features']\n",
    "df['coef']=model.coef_[0]\n",
    "df.sort_index(ascending=True)"
   ]
  },
  {
   "cell_type": "markdown",
   "id": "49de8cbd",
   "metadata": {},
   "source": [
    "# 2.Evalute different evaluation metrics values and interpet the model evaluation."
   ]
  },
  {
   "cell_type": "code",
   "execution_count": 325,
   "id": "fce45b72",
   "metadata": {},
   "outputs": [],
   "source": [
    "from sklearn.metrics import confusion_matrix,precision_score,recall_score,f1_score,classification_report,accuracy_score"
   ]
  },
  {
   "cell_type": "code",
   "execution_count": 327,
   "id": "d39b5324",
   "metadata": {},
   "outputs": [
    {
     "name": "stdout",
     "output_type": "stream",
     "text": [
      "              precision    recall  f1-score   support\n",
      "\n",
      "           0       0.80      0.95      0.87       794\n",
      "           1       0.62      0.26      0.37       251\n",
      "\n",
      "    accuracy                           0.78      1045\n",
      "   macro avg       0.71      0.60      0.62      1045\n",
      "weighted avg       0.76      0.78      0.75      1045\n",
      "\n"
     ]
    }
   ],
   "source": [
    "print(classification_report(Y_test,pred_y))"
   ]
  },
  {
   "cell_type": "markdown",
   "id": "7f925821",
   "metadata": {},
   "source": [
    "# 3.Evalute ROC and AUC score."
   ]
  },
  {
   "cell_type": "code",
   "execution_count": 340,
   "id": "65ca5ff5",
   "metadata": {},
   "outputs": [],
   "source": [
    "from sklearn.metrics import roc_auc_score"
   ]
  },
  {
   "cell_type": "code",
   "execution_count": 341,
   "id": "c93b89b3",
   "metadata": {},
   "outputs": [
    {
     "data": {
      "text/plain": [
       "0.7098909149297019"
      ]
     },
     "execution_count": 341,
     "metadata": {},
     "output_type": "execute_result"
    }
   ],
   "source": [
    "roc=roc_auc_score(Y_test,model.predict_proba(X_test)[:,1])\n",
    "roc"
   ]
  },
  {
   "cell_type": "markdown",
   "id": "890224c1",
   "metadata": {},
   "source": [
    "# 4.Draw the ROC and AUC curve and interpet model's performance from the curves."
   ]
  },
  {
   "cell_type": "code",
   "execution_count": 343,
   "id": "67fd001f",
   "metadata": {},
   "outputs": [],
   "source": [
    "from sklearn.metrics import roc_curve"
   ]
  },
  {
   "cell_type": "code",
   "execution_count": 344,
   "id": "d178386c",
   "metadata": {},
   "outputs": [
    {
     "data": {
      "text/plain": [
       "Text(0, 0.5, 'tpr')"
      ]
     },
     "execution_count": 344,
     "metadata": {},
     "output_type": "execute_result"
    },
    {
     "data": {
      "image/png": "[encoded data removed]",
      "text/plain": [
       "<Figure size 640x480 with 1 Axes>"
      ]
     },
     "metadata": {},
     "output_type": "display_data"
    }
   ],
   "source": [
    "probability_value=model.predict_proba(X_test)[:,1]\n",
    "fpr,tpr,threshode=roc_curve(Y_test,probability_value)\n",
    "plt.plot(fpr,tpr,color='red',label='roc')\n",
    "plt.plot([0,1],[0,1],color='blue',linestyle='-')\n",
    "plt.xlabel('fpr')\n",
    "plt.ylabel('tpr')"
   ]
  },
  {
   "cell_type": "code",
   "execution_count": null,
   "id": "9c5212c2",
   "metadata": {},
   "outputs": [],
   "source": []
  }
 ],
 "metadata": {
  "kernelspec": {
   "display_name": "Python 3 (ipykernel)",
   "language": "python",
   "name": "python3"
  },
  "language_info": {
   "codemirror_mode": {
    "name": "ipython",
    "version": 3
   },
   "file_extension": ".py",
   "mimetype": "text/x-python",
   "name": "python",
   "nbconvert_exporter": "python",
   "pygments_lexer": "ipython3",
   "version": "3.9.13"
  }
 },
 "nbformat": 4,
 "nbformat_minor": 5
}
